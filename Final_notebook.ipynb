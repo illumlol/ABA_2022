{
 "cells": [
  {
   "cell_type": "markdown",
   "metadata": {},
   "source": [
    "# Advanced Business Analytics - Technical Report\n",
    "##  Engagement Prediction of News Articles on Facebook"
   ]
  },
  {
   "cell_type": "markdown",
   "metadata": {},
   "source": [
    "11 May 2022 \n",
    "\n",
    "Welcome to the technical report of the project: Engagement Prediction of News Articles on Facebook. This project is made by the following students: <br>\n",
    "Hans Christian Bechsøfft Mikkelsen, s184294 <br>\n",
    "Marie Sjørslev Pedersen, s174329 <br>\n",
    "Martin Illum, s184286 <br>\n",
    "Oliver Svane Olsen, s184294\n",
    "\n",
    "**Table of contents:**\n",
    "1. Introduction\n",
    "2. Data cleaning & Exploratory Analysis\n",
    "3. Topic Modelling\n",
    "4. Google Trends\n",
    "5. Deep-learning\n",
    "6. Discussion\n",
    "7. Conclusions"
   ]
  },
  {
   "cell_type": "markdown",
   "metadata": {},
   "source": [
    "## Introduciton"
   ]
  },
  {
   "cell_type": "markdown",
   "metadata": {},
   "source": [
    "![alt text](Data/cover_pic.jpg \"Title\")"
   ]
  },
  {
   "cell_type": "markdown",
   "metadata": {},
   "source": [
    "<a class=\"anchor\" id=\"first-bullet\"></a>\n",
    "The impact social media platforms have had on the distribution of articles from news outlets has been significant. About half of U.S. adults (53%) say they get news from social media “often” or “sometimes,” and this use is spread out across a number of different sites, according to a Pew Research Center survey conducted Aug. 31-Sept. 7, 2020. Among 11 social media sites asked about as a regular source of news, Facebook sits at the top, with about a third (36%) of Americans getting news there regularly. But what articles are shown to which users? [[1]](https://www.pewresearch.org/journalism/2021/01/12/news-use-across-social-media-platforms-in-2020/)\n",
    "\n",
    "The facebook algorithm has long been a hot topic what news feed is shown to you. The specific details of how it works is not known, however there are supposedly three main ranking parameters.\n",
    "* 1. Who posted it? Content by people or business affilated with you will be priotized.\n",
    "* 2. The type of content, if you a more prone to click on videos, videos will be shown to you.\n",
    "* 3. Interaction with the post, feed will prioritize posts with a lot of engagement, especially from people you interact with a lot [[2]](https://blog.hootsuite.com/facebook-algorithm/).\n",
    "\n",
    "So when an article is shown to the user, a long process has been gone through to pick that exact one. But what determines whether the user will enteract with the article? Is it the cover picture, title, news oulet or a combination of all?\n",
    "\n",
    "This notebook will try to explore what is important for news articles on Facebook, in order for people to enteract with them. This can be usefull for editors of newspaper to ensure that the articles they choose to share, are the one who will gain the most traction.\n",
    "\n",
    " This project will build a model to predict the user engangment, with a special focus on article headlines, the cover picture or the news outlet. In order to achieve this several methods has been used: web scraping, topic modelling, deep learning."
   ]
  },
  {
   "cell_type": "markdown",
   "metadata": {},
   "source": [
    "### Data Sources"
   ]
  },
  {
   "cell_type": "markdown",
   "metadata": {},
   "source": [
    "The main data file for this project is obtained from Kaggle [[3]](https://www.kaggle.com/szymonjanowski/internet-articles-data-with-users-engagement), and web scrapes and API usuage has been carried out to supplement the data set.\n",
    "In this project three data sources are used.\n",
    "\n",
    "- The data set contains 10437 rows representing unique articles from September 2019 to October 2019. The data set contain 15 columns where 11 of them are information about the article and the last 4 of them are metrics on different engangement types."
   ]
  },
  {
   "cell_type": "markdown",
   "metadata": {},
   "source": [
    "## Data Cleaning & Exploratory Analysis"
   ]
  },
  {
   "cell_type": "markdown",
   "metadata": {},
   "source": [
    "First, all packages used in this notebook will be loaded below:"
   ]
  },
  {
   "cell_type": "code",
   "execution_count": 1,
   "id": "a4076528",
   "metadata": {},
   "outputs": [],
   "source": [
    "# Basic\n",
    "import pandas as pd\n",
    "from tqdm.notebook import tqdm\n",
    "import numpy as np\n",
    "import warnings\n",
    "import itertools\n",
    "from os import listdir\n",
    "from os.path import isfile, join\n",
    "import datetime\n",
    "\n",
    "# Visualizations \n",
    "import matplotlib.pyplot as plt\n",
    "import seaborn as sns\n",
    "import plotly.graph_objects as go\n",
    "from plotly.subplots import make_subplots\n",
    "import plotly.express as px\n",
    "from IPython.display import Image\n",
    "from PIL import Image\n",
    "\n",
    "# Topic Modelling\n",
    "# !pip install bertopic\n",
    "from bertopic import BERTopic\n",
    "import re, nltk\n",
    "from nltk.corpus import stopwords\n",
    "from wordcloud import WordCloud\n",
    "from nltk.stem import WordNetLemmatizer\n",
    "from typing import List\n",
    "\n",
    "# Web Scrapping\n",
    "# !pip install pytrends\n",
    "import requests\n",
    "from pytrends.request import TrendReq\n",
    "pytrends = TrendReq()\n",
    "import time\n",
    "\n",
    "#Deep learning\n",
    "# Tensorflow stuff\n",
    "from tabnanny import verbose\n",
    "from tensorflow import keras\n",
    "#from tensorflow.keras import layers, initializers\n",
    "from tensorflow import keras\n",
    "import tensorflow as tf\n",
    "from keras.preprocessing.text import Tokenizer\n",
    "from keras.preprocessing.sequence import pad_sequences\n",
    "from sklearn.model_selection import train_test_split\n",
    "\n"
   ]
  },
  {
   "cell_type": "code",
   "execution_count": 2,
   "metadata": {},
   "outputs": [
    {
     "data": {
      "text/html": [
       "<div>\n",
       "<style scoped>\n",
       "    .dataframe tbody tr th:only-of-type {\n",
       "        vertical-align: middle;\n",
       "    }\n",
       "\n",
       "    .dataframe tbody tr th {\n",
       "        vertical-align: top;\n",
       "    }\n",
       "\n",
       "    .dataframe thead th {\n",
       "        text-align: right;\n",
       "    }\n",
       "</style>\n",
       "<table border=\"1\" class=\"dataframe\">\n",
       "  <thead>\n",
       "    <tr style=\"text-align: right;\">\n",
       "      <th></th>\n",
       "      <th>Unnamed: 0</th>\n",
       "      <th>source_id</th>\n",
       "      <th>source_name</th>\n",
       "      <th>author</th>\n",
       "      <th>title</th>\n",
       "      <th>description</th>\n",
       "      <th>url</th>\n",
       "      <th>url_to_image</th>\n",
       "      <th>published_at</th>\n",
       "      <th>content</th>\n",
       "      <th>top_article</th>\n",
       "      <th>engagement_reaction_count</th>\n",
       "      <th>engagement_comment_count</th>\n",
       "      <th>engagement_share_count</th>\n",
       "      <th>engagement_comment_plugin_count</th>\n",
       "    </tr>\n",
       "  </thead>\n",
       "  <tbody>\n",
       "    <tr>\n",
       "      <th>0</th>\n",
       "      <td>0</td>\n",
       "      <td>reuters</td>\n",
       "      <td>Reuters</td>\n",
       "      <td>Reuters Editorial</td>\n",
       "      <td>NTSB says Autopilot engaged in 2018 California...</td>\n",
       "      <td>The National Transportation Safety Board said ...</td>\n",
       "      <td>https://www.reuters.com/article/us-tesla-crash...</td>\n",
       "      <td>https://s4.reutersmedia.net/resources/r/?m=02&amp;...</td>\n",
       "      <td>2019-09-03T16:22:20Z</td>\n",
       "      <td>WASHINGTON (Reuters) - The National Transporta...</td>\n",
       "      <td>0.0</td>\n",
       "      <td>0.0</td>\n",
       "      <td>0.0</td>\n",
       "      <td>2528.0</td>\n",
       "      <td>0.0</td>\n",
       "    </tr>\n",
       "    <tr>\n",
       "      <th>1</th>\n",
       "      <td>1</td>\n",
       "      <td>the-irish-times</td>\n",
       "      <td>The Irish Times</td>\n",
       "      <td>Eoin Burke-Kennedy</td>\n",
       "      <td>Unemployment falls to post-crash low of 5.2%</td>\n",
       "      <td>Latest monthly figures reflect continued growt...</td>\n",
       "      <td>https://www.irishtimes.com/business/economy/un...</td>\n",
       "      <td>https://www.irishtimes.com/image-creator/?id=1...</td>\n",
       "      <td>2019-09-03T10:32:28Z</td>\n",
       "      <td>The States jobless rate fell to 5.2 per cent l...</td>\n",
       "      <td>0.0</td>\n",
       "      <td>6.0</td>\n",
       "      <td>10.0</td>\n",
       "      <td>2.0</td>\n",
       "      <td>0.0</td>\n",
       "    </tr>\n",
       "    <tr>\n",
       "      <th>2</th>\n",
       "      <td>2</td>\n",
       "      <td>the-irish-times</td>\n",
       "      <td>The Irish Times</td>\n",
       "      <td>Deirdre McQuillan</td>\n",
       "      <td>Louise Kennedy AW2019: Long coats, sparkling t...</td>\n",
       "      <td>Autumn-winter collection features designer’s g...</td>\n",
       "      <td>https://www.irishtimes.com/\\t\\t\\t\\t\\t\\t\\t/life...</td>\n",
       "      <td>https://www.irishtimes.com/image-creator/?id=1...</td>\n",
       "      <td>2019-09-03T14:40:00Z</td>\n",
       "      <td>Louise Kennedy is showing off her autumn-winte...</td>\n",
       "      <td>1.0</td>\n",
       "      <td>NaN</td>\n",
       "      <td>NaN</td>\n",
       "      <td>NaN</td>\n",
       "      <td>NaN</td>\n",
       "    </tr>\n",
       "    <tr>\n",
       "      <th>3</th>\n",
       "      <td>3</td>\n",
       "      <td>al-jazeera-english</td>\n",
       "      <td>Al Jazeera English</td>\n",
       "      <td>Al Jazeera</td>\n",
       "      <td>North Korean footballer Han joins Italian gian...</td>\n",
       "      <td>Han is the first North Korean player in the Se...</td>\n",
       "      <td>https://www.aljazeera.com/news/2019/09/north-k...</td>\n",
       "      <td>https://www.aljazeera.com/mritems/Images/2019/...</td>\n",
       "      <td>2019-09-03T17:25:39Z</td>\n",
       "      <td>Han Kwang Song, the first North Korean footbal...</td>\n",
       "      <td>0.0</td>\n",
       "      <td>0.0</td>\n",
       "      <td>0.0</td>\n",
       "      <td>7.0</td>\n",
       "      <td>0.0</td>\n",
       "    </tr>\n",
       "    <tr>\n",
       "      <th>4</th>\n",
       "      <td>4</td>\n",
       "      <td>bbc-news</td>\n",
       "      <td>BBC News</td>\n",
       "      <td>BBC News</td>\n",
       "      <td>UK government lawyer says proroguing parliamen...</td>\n",
       "      <td>The UK government's lawyer, David Johnston arg...</td>\n",
       "      <td>https://www.bbc.co.uk/news/av/uk-scotland-4956...</td>\n",
       "      <td>https://ichef.bbci.co.uk/news/1024/branded_new...</td>\n",
       "      <td>2019-09-03T14:39:21Z</td>\n",
       "      <td>NaN</td>\n",
       "      <td>0.0</td>\n",
       "      <td>0.0</td>\n",
       "      <td>0.0</td>\n",
       "      <td>0.0</td>\n",
       "      <td>0.0</td>\n",
       "    </tr>\n",
       "  </tbody>\n",
       "</table>\n",
       "</div>"
      ],
      "text/plain": [
       "   Unnamed: 0           source_id         source_name              author  \\\n",
       "0           0             reuters             Reuters   Reuters Editorial   \n",
       "1           1     the-irish-times     The Irish Times  Eoin Burke-Kennedy   \n",
       "2           2     the-irish-times     The Irish Times   Deirdre McQuillan   \n",
       "3           3  al-jazeera-english  Al Jazeera English          Al Jazeera   \n",
       "4           4            bbc-news            BBC News            BBC News   \n",
       "\n",
       "                                               title  \\\n",
       "0  NTSB says Autopilot engaged in 2018 California...   \n",
       "1       Unemployment falls to post-crash low of 5.2%   \n",
       "2  Louise Kennedy AW2019: Long coats, sparkling t...   \n",
       "3  North Korean footballer Han joins Italian gian...   \n",
       "4  UK government lawyer says proroguing parliamen...   \n",
       "\n",
       "                                         description  \\\n",
       "0  The National Transportation Safety Board said ...   \n",
       "1  Latest monthly figures reflect continued growt...   \n",
       "2  Autumn-winter collection features designer’s g...   \n",
       "3  Han is the first North Korean player in the Se...   \n",
       "4  The UK government's lawyer, David Johnston arg...   \n",
       "\n",
       "                                                 url  \\\n",
       "0  https://www.reuters.com/article/us-tesla-crash...   \n",
       "1  https://www.irishtimes.com/business/economy/un...   \n",
       "2  https://www.irishtimes.com/\\t\\t\\t\\t\\t\\t\\t/life...   \n",
       "3  https://www.aljazeera.com/news/2019/09/north-k...   \n",
       "4  https://www.bbc.co.uk/news/av/uk-scotland-4956...   \n",
       "\n",
       "                                        url_to_image          published_at  \\\n",
       "0  https://s4.reutersmedia.net/resources/r/?m=02&...  2019-09-03T16:22:20Z   \n",
       "1  https://www.irishtimes.com/image-creator/?id=1...  2019-09-03T10:32:28Z   \n",
       "2  https://www.irishtimes.com/image-creator/?id=1...  2019-09-03T14:40:00Z   \n",
       "3  https://www.aljazeera.com/mritems/Images/2019/...  2019-09-03T17:25:39Z   \n",
       "4  https://ichef.bbci.co.uk/news/1024/branded_new...  2019-09-03T14:39:21Z   \n",
       "\n",
       "                                             content  top_article  \\\n",
       "0  WASHINGTON (Reuters) - The National Transporta...          0.0   \n",
       "1  The States jobless rate fell to 5.2 per cent l...          0.0   \n",
       "2  Louise Kennedy is showing off her autumn-winte...          1.0   \n",
       "3  Han Kwang Song, the first North Korean footbal...          0.0   \n",
       "4                                                NaN          0.0   \n",
       "\n",
       "   engagement_reaction_count  engagement_comment_count  \\\n",
       "0                        0.0                       0.0   \n",
       "1                        6.0                      10.0   \n",
       "2                        NaN                       NaN   \n",
       "3                        0.0                       0.0   \n",
       "4                        0.0                       0.0   \n",
       "\n",
       "   engagement_share_count  engagement_comment_plugin_count  \n",
       "0                  2528.0                              0.0  \n",
       "1                     2.0                              0.0  \n",
       "2                     NaN                              NaN  \n",
       "3                     7.0                              0.0  \n",
       "4                     0.0                              0.0  "
      ]
     },
     "execution_count": 2,
     "metadata": {},
     "output_type": "execute_result"
    }
   ],
   "source": [
    "# Load data\n",
    "df = pd.read_csv(\"Data/articles_data.csv\")\n",
    "df.head()"
   ]
  },
  {
   "cell_type": "markdown",
   "id": "7ebfc018",
   "metadata": {},
   "source": [
    "### Basic exploration of the data"
   ]
  },
  {
   "cell_type": "markdown",
   "id": "f2fc5cb1",
   "metadata": {},
   "source": [
    "This data exploration will mainly revovle around the article data set, where each row represents an unique article. In the output below an overview of the columns and their data type can be seen. Most of the columns are rather self-explainatory. However, a few require further elaboration:\n",
    "* \"Content\" - which only contains the first 250 characters in each article\n",
    "\n",
    "* \"top_article\" - a binary column indicating if article was listed as a top article on publisher website\n",
    "\n",
    "* \"engagement_reaction_count\" - Users reactions count for posts on Facebook involving article URL\n",
    "\n",
    "* \"engagement_comment_count\" - Users comments count for posts on Facebook involving article URL\n",
    "\n",
    "* \"engagement_share_count\" - Users shares count for posts on Facebook involving article URL\n",
    "\n",
    "* \"engagement_comment_plugin_count\" - Users comments count for Facebook comment plugin on article website"
   ]
  },
  {
   "cell_type": "markdown",
   "id": "c318569f",
   "metadata": {},
   "source": [
    "Taking a quick look at the data types, there are multiple categorical values, while all engagement metrics are in float."
   ]
  },
  {
   "cell_type": "code",
   "execution_count": 3,
   "id": "d4fe8a24",
   "metadata": {},
   "outputs": [
    {
     "name": "stdout",
     "output_type": "stream",
     "text": [
      "<class 'pandas.core.frame.DataFrame'>\n",
      "RangeIndex: 10437 entries, 0 to 10436\n",
      "Data columns (total 15 columns):\n",
      " #   Column                           Non-Null Count  Dtype  \n",
      "---  ------                           --------------  -----  \n",
      " 0   Unnamed: 0                       10437 non-null  int64  \n",
      " 1   source_id                        10437 non-null  object \n",
      " 2   source_name                      10437 non-null  object \n",
      " 3   author                           9417 non-null   object \n",
      " 4   title                            10435 non-null  object \n",
      " 5   description                      10413 non-null  object \n",
      " 6   url                              10436 non-null  object \n",
      " 7   url_to_image                     9781 non-null   object \n",
      " 8   published_at                     10436 non-null  object \n",
      " 9   content                          9145 non-null   object \n",
      " 10  top_article                      10435 non-null  float64\n",
      " 11  engagement_reaction_count        10319 non-null  float64\n",
      " 12  engagement_comment_count         10319 non-null  float64\n",
      " 13  engagement_share_count           10319 non-null  float64\n",
      " 14  engagement_comment_plugin_count  10319 non-null  float64\n",
      "dtypes: float64(5), int64(1), object(9)\n",
      "memory usage: 1.2+ MB\n"
     ]
    }
   ],
   "source": [
    "df.info()"
   ]
  },
  {
   "cell_type": "markdown",
   "id": "d9cc8edb",
   "metadata": {},
   "source": [
    "A further look into the data shows that there are missing values in most of the columns."
   ]
  },
  {
   "cell_type": "code",
   "execution_count": 4,
   "id": "d9899362",
   "metadata": {},
   "outputs": [
    {
     "data": {
      "text/html": [
       "<style  type=\"text/css\" >\n",
       "#T_8a762_row0_col0{\n",
       "            background-color:  #ffff66;\n",
       "            color:  #000000;\n",
       "        }#T_8a762_row1_col0{\n",
       "            background-color:  #cae466;\n",
       "            color:  #000000;\n",
       "        }#T_8a762_row2_col0{\n",
       "            background-color:  #81c066;\n",
       "            color:  #000000;\n",
       "        }#T_8a762_row3_col0,#T_8a762_row4_col0,#T_8a762_row5_col0,#T_8a762_row6_col0{\n",
       "            background-color:  #178b66;\n",
       "            color:  #000000;\n",
       "        }#T_8a762_row7_col0{\n",
       "            background-color:  #048266;\n",
       "            color:  #f1f1f1;\n",
       "        }#T_8a762_row8_col0,#T_8a762_row9_col0,#T_8a762_row10_col0,#T_8a762_row11_col0,#T_8a762_row12_col0,#T_8a762_row13_col0,#T_8a762_row14_col0{\n",
       "            background-color:  #008066;\n",
       "            color:  #f1f1f1;\n",
       "        }</style><table id=\"T_8a762_\" ><thead>    <tr>        <th class=\"blank level0\" ></th>        <th class=\"col_heading level0 col0\" >NA Count</th>        <th class=\"col_heading level0 col1\" >NA Percent</th>    </tr></thead><tbody>\n",
       "                <tr>\n",
       "                        <th id=\"T_8a762_level0_row0\" class=\"row_heading level0 row0\" >content</th>\n",
       "                        <td id=\"T_8a762_row0_col0\" class=\"data row0 col0\" >1292</td>\n",
       "                        <td id=\"T_8a762_row0_col1\" class=\"data row0 col1\" >12.38%</td>\n",
       "            </tr>\n",
       "            <tr>\n",
       "                        <th id=\"T_8a762_level0_row1\" class=\"row_heading level0 row1\" >author</th>\n",
       "                        <td id=\"T_8a762_row1_col0\" class=\"data row1 col0\" >1020</td>\n",
       "                        <td id=\"T_8a762_row1_col1\" class=\"data row1 col1\" >9.77%</td>\n",
       "            </tr>\n",
       "            <tr>\n",
       "                        <th id=\"T_8a762_level0_row2\" class=\"row_heading level0 row2\" >url_to_image</th>\n",
       "                        <td id=\"T_8a762_row2_col0\" class=\"data row2 col0\" >656</td>\n",
       "                        <td id=\"T_8a762_row2_col1\" class=\"data row2 col1\" >6.29%</td>\n",
       "            </tr>\n",
       "            <tr>\n",
       "                        <th id=\"T_8a762_level0_row3\" class=\"row_heading level0 row3\" >engagement_reaction_count</th>\n",
       "                        <td id=\"T_8a762_row3_col0\" class=\"data row3 col0\" >118</td>\n",
       "                        <td id=\"T_8a762_row3_col1\" class=\"data row3 col1\" >1.13%</td>\n",
       "            </tr>\n",
       "            <tr>\n",
       "                        <th id=\"T_8a762_level0_row4\" class=\"row_heading level0 row4\" >engagement_comment_count</th>\n",
       "                        <td id=\"T_8a762_row4_col0\" class=\"data row4 col0\" >118</td>\n",
       "                        <td id=\"T_8a762_row4_col1\" class=\"data row4 col1\" >1.13%</td>\n",
       "            </tr>\n",
       "            <tr>\n",
       "                        <th id=\"T_8a762_level0_row5\" class=\"row_heading level0 row5\" >engagement_share_count</th>\n",
       "                        <td id=\"T_8a762_row5_col0\" class=\"data row5 col0\" >118</td>\n",
       "                        <td id=\"T_8a762_row5_col1\" class=\"data row5 col1\" >1.13%</td>\n",
       "            </tr>\n",
       "            <tr>\n",
       "                        <th id=\"T_8a762_level0_row6\" class=\"row_heading level0 row6\" >engagement_comment_plugin_count</th>\n",
       "                        <td id=\"T_8a762_row6_col0\" class=\"data row6 col0\" >118</td>\n",
       "                        <td id=\"T_8a762_row6_col1\" class=\"data row6 col1\" >1.13%</td>\n",
       "            </tr>\n",
       "            <tr>\n",
       "                        <th id=\"T_8a762_level0_row7\" class=\"row_heading level0 row7\" >description</th>\n",
       "                        <td id=\"T_8a762_row7_col0\" class=\"data row7 col0\" >24</td>\n",
       "                        <td id=\"T_8a762_row7_col1\" class=\"data row7 col1\" >0.23%</td>\n",
       "            </tr>\n",
       "            <tr>\n",
       "                        <th id=\"T_8a762_level0_row8\" class=\"row_heading level0 row8\" >title</th>\n",
       "                        <td id=\"T_8a762_row8_col0\" class=\"data row8 col0\" >2</td>\n",
       "                        <td id=\"T_8a762_row8_col1\" class=\"data row8 col1\" >0.02%</td>\n",
       "            </tr>\n",
       "            <tr>\n",
       "                        <th id=\"T_8a762_level0_row9\" class=\"row_heading level0 row9\" >top_article</th>\n",
       "                        <td id=\"T_8a762_row9_col0\" class=\"data row9 col0\" >2</td>\n",
       "                        <td id=\"T_8a762_row9_col1\" class=\"data row9 col1\" >0.02%</td>\n",
       "            </tr>\n",
       "            <tr>\n",
       "                        <th id=\"T_8a762_level0_row10\" class=\"row_heading level0 row10\" >url</th>\n",
       "                        <td id=\"T_8a762_row10_col0\" class=\"data row10 col0\" >1</td>\n",
       "                        <td id=\"T_8a762_row10_col1\" class=\"data row10 col1\" >0.01%</td>\n",
       "            </tr>\n",
       "            <tr>\n",
       "                        <th id=\"T_8a762_level0_row11\" class=\"row_heading level0 row11\" >published_at</th>\n",
       "                        <td id=\"T_8a762_row11_col0\" class=\"data row11 col0\" >1</td>\n",
       "                        <td id=\"T_8a762_row11_col1\" class=\"data row11 col1\" >0.01%</td>\n",
       "            </tr>\n",
       "            <tr>\n",
       "                        <th id=\"T_8a762_level0_row12\" class=\"row_heading level0 row12\" >Unnamed: 0</th>\n",
       "                        <td id=\"T_8a762_row12_col0\" class=\"data row12 col0\" >0</td>\n",
       "                        <td id=\"T_8a762_row12_col1\" class=\"data row12 col1\" >0.00%</td>\n",
       "            </tr>\n",
       "            <tr>\n",
       "                        <th id=\"T_8a762_level0_row13\" class=\"row_heading level0 row13\" >source_id</th>\n",
       "                        <td id=\"T_8a762_row13_col0\" class=\"data row13 col0\" >0</td>\n",
       "                        <td id=\"T_8a762_row13_col1\" class=\"data row13 col1\" >0.00%</td>\n",
       "            </tr>\n",
       "            <tr>\n",
       "                        <th id=\"T_8a762_level0_row14\" class=\"row_heading level0 row14\" >source_name</th>\n",
       "                        <td id=\"T_8a762_row14_col0\" class=\"data row14 col0\" >0</td>\n",
       "                        <td id=\"T_8a762_row14_col1\" class=\"data row14 col1\" >0.00%</td>\n",
       "            </tr>\n",
       "    </tbody></table>"
      ],
      "text/plain": [
       "<pandas.io.formats.style.Styler at 0x223f420fe50>"
      ]
     },
     "execution_count": 4,
     "metadata": {},
     "output_type": "execute_result"
    }
   ],
   "source": [
    "NA = pd.DataFrame(data=[df.isna().sum().tolist(), [\"{:.2f}\".format(i)+'%' \\\n",
    "            for i in (df.isna().sum()/df.shape[0]*100).tolist()]], \n",
    "            columns = df.columns, index=['NA Count', 'NA Percent']).T.\\\n",
    "            sort_values(by = 'NA Count',ascending =False)\n",
    "NA.style.background_gradient(cmap=\"summer\", subset=['NA Count'])\n",
    "#Code inspired from https://www.kaggle.com/code/kingabzpro/internet-news-and-consumer-engagement"
   ]
  },
  {
   "cell_type": "markdown",
   "id": "abc95867",
   "metadata": {},
   "source": [
    "However we have 10.000 unique articles, so for the sake of having clean data we are dropping the rows with missing `NaN` values as well as the column `Unnamed:0` which is identical to the index."
   ]
  },
  {
   "cell_type": "code",
   "execution_count": 5,
   "id": "5914a40c",
   "metadata": {},
   "outputs": [],
   "source": [
    "df = df.dropna(subset = [ 'source_id', 'source_name', 'author', 'title',\n",
    "       'description', 'url', 'published_at',\n",
    "       'top_article', 'engagement_reaction_count', 'engagement_comment_count',\n",
    "       'engagement_share_count', 'engagement_comment_plugin_count', 'content'])\n",
    "df=df.drop(columns=[\"Unnamed: 0\"])"
   ]
  },
  {
   "cell_type": "markdown",
   "id": "09d38b06",
   "metadata": {},
   "source": [
    "We will change the publishing date to date time for later:"
   ]
  },
  {
   "cell_type": "code",
   "execution_count": 6,
   "id": "cf58e72c",
   "metadata": {},
   "outputs": [],
   "source": [
    "warnings.filterwarnings(\"ignore\")\n",
    "df.published_at = pd.to_datetime(df.published_at)\n",
    "\n",
    "df['Day_Of_Week'] = df.published_at.apply(lambda x: x.dayofweek)\n",
    "df['Month'] = df.published_at.apply(lambda x: x.month)\n",
    "df['Year'] = df.published_at.apply(lambda x: x.year)\n",
    "df['date'] = df.published_at.dt.strftime('%Y-%m')"
   ]
  },
  {
   "cell_type": "markdown",
   "id": "1e3d87ee",
   "metadata": {},
   "source": [
    "Lets have a quick look at the number of articles published each day, here we can also see that our data spans from start september to mid october, roughly 1.5 month which is that big a time interval."
   ]
  },
  {
   "cell_type": "code",
   "execution_count": 7,
   "id": "dacd9c70",
   "metadata": {},
   "outputs": [
    {
     "data": {
      "image/png": "[encoded data removed]",
      "text/plain": [
       "<Figure size 1800x504 with 1 Axes>"
      ]
     },
     "metadata": {
      "needs_background": "light"
     },
     "output_type": "display_data"
    }
   ],
   "source": [
    "plt.rcParams.update({'font.size': 14})\n",
    "df.published_at.dt.date.value_counts().plot(figsize=(25,7),\n",
    "                                            xlabel=\"Time [Year-Month-Day]\",\n",
    "                                            ylabel=\"Number of articles published\",\n",
    "                                            fontsize=13,\n",
    "                                            title=\"Number of articlecs publsihed each date\")\n",
    "plt.grid()"
   ]
  },
  {
   "cell_type": "markdown",
   "id": "3b4c82d1",
   "metadata": {},
   "source": [
    "Lets have a look if there is a trend for when articles are published (Local time). Here we can see a quite interesting pattern. As assummed, very few articles are published at night 24:00 -> 06:00, it could be assummed that a lot of these stories are breaking news from around the world. Then a steady increase of articles published occurs between 06:00 -> 17:00. Intereting enough no articles in our data set is published between 19:00 -> 24:00, which seems very odd. We can see that only a small part of all the articles are top articles, which follows the same distribution as all the articlecs."
   ]
  },
  {
   "cell_type": "code",
   "execution_count": 8,
   "id": "41a8f8e2",
   "metadata": {},
   "outputs": [
    {
     "data": {
      "text/plain": [
       "<matplotlib.legend.Legend at 0x223f4372bb0>"
      ]
     },
     "execution_count": 8,
     "metadata": {},
     "output_type": "execute_result"
    },
    {
     "data": {
      "image/png": "[encoded data removed]",
      "text/plain": [
       "<Figure size 1440x504 with 1 Axes>"
      ]
     },
     "metadata": {
      "needs_background": "light"
     },
     "output_type": "display_data"
    }
   ],
   "source": [
    "bar_df=df.published_at.dt.hour.value_counts().sort_index().to_frame()\n",
    "bar_df['Top_article']=df.groupby(df[\"published_at\"].dt.hour)['top_article'].sum().values\n",
    "\n",
    "_, ax = plt.subplots()\n",
    "bar_df.plot(\n",
    "            kind=\"bar\",\n",
    "            figsize=(20,7),\n",
    "            title=\"Time of publishing distribution of articles\",\n",
    "            xlabel=\"Hour of day (Local time)\",\n",
    "            ylabel=\"Count\",\n",
    "            rot=0,\n",
    "            ax=ax,\n",
    "            legend=\"Count of all articles\");\n",
    "bar_df.Top_article.plot(\n",
    "            kind=\"bar\",\n",
    "            figsize=(20,7),\n",
    "            title=\"Time of publishing distribution of articles\",\n",
    "            xlabel=\"Hour of day (Local time)\",\n",
    "            ylabel=\"Count\",\n",
    "            rot=0,\n",
    "            ax=ax,\n",
    "            color=\"orange\",\n",
    "            width=0);\n",
    "ax.legend([\"All articles\", \"Top articles\"])"
   ]
  },
  {
   "cell_type": "markdown",
   "id": "cf7dd4fd",
   "metadata": {},
   "source": [
    "Lets explore the data further, here we take a look at the top 15 authors based on number of articles written, and the top Sources based on number of articles published. Its quite clear that the \"top\" authors are not individual persons, but articles published in the name of the publisher. There are a few indivduals based on who have written an impressive amount of articles (40-80) in the 1.5 month interval our data spans over."
   ]
  },
  {
   "cell_type": "code",
   "execution_count": 9,
   "id": "9f57a0c6",
   "metadata": {},
   "outputs": [
    {
     "data": {
      "image/png": "[encoded data removed]",
      "text/plain": [
       "<Figure size 1224x720 with 2 Axes>"
      ]
     },
     "metadata": {
      "needs_background": "light"
     },
     "output_type": "display_data"
    }
   ],
   "source": [
    "figure, ax = plt.subplots(2, 1,figsize=(17,10)) #TODO labels\n",
    "# plt.tight_layout\n",
    "\n",
    "\n",
    "df['author'].value_counts()[:15].plot(kind='barh',\n",
    "                                      title=\"Top 15 Authors\"\n",
    "                                      ,ax=ax[0],\n",
    "                                      fontsize=13,\n",
    "                                      xlabel=\"Author\",\n",
    "                                      ylabel=\"Count\")\n",
    "plt.xlabel(\"Count\")\n",
    "df['source_name'].value_counts().plot(kind='barh',\n",
    "                                      title=\"Top 15 Sources\",\n",
    "                                      ax=ax[1],\n",
    "                                      fontsize=13,\n",
    "                                      xlabel=\"Publisher\",\n",
    "                                      ylabel=\"Count\")\n",
    "\n",
    "plt.show()"
   ]
  },
  {
   "cell_type": "markdown",
   "id": "1976b278",
   "metadata": {},
   "source": [
    "Finally we have the Facebook metrics for the articles we can a deeper look into. Below are the four different metrics shown with a distribution plot with a (Log/Lin) axis. The first thing that can be seen is there are a lot more different values for the metrics showing \"Reaction_count, Comment_count, share_count\" compared to \"comment_plugin_count_metric\". Another intersting thing from the plot is that the majortiy of articles have all most no engangement, all graphs seems to be log normal distributed."
   ]
  },
  {
   "cell_type": "code",
   "execution_count": 10,
   "id": "c7243f37",
   "metadata": {},
   "outputs": [
    {
     "data": {
      "image/png": "[encoded data removed]",
      "text/plain": [
       "<Figure size 1080x720 with 4 Axes>"
      ]
     },
     "metadata": {
      "needs_background": "light"
     },
     "output_type": "display_data"
    }
   ],
   "source": [
    "fig, ax = plt.subplots(2,2, figsize=(15,10))\n",
    "channels=['engagement_reaction_count', 'engagement_comment_count',\n",
    "       'engagement_share_count', 'engagement_comment_plugin_count']\n",
    "k=0\n",
    "for j in range(len(ax)):\n",
    "    for i in range(len(ax[j])):\n",
    "        ax[j][i].tick_params(labelsize=12)\n",
    "        ax[j][i].set_xlabel('Metric value', fontsize=12, position=(.5,20))\n",
    "        ax[j][i].set_ylabel('Density', fontsize=12)\n",
    "        ax[j][i].set_title(f'Distribution af {channels[k]} Metric (Log/Lin)', size=12)\n",
    "        ax[j][i].set(xscale=\"log\")\n",
    "        ax[j][i] = sns.histplot(df[channels[k]].value_counts(), ax=ax[j][i],kde=True, stat=\"density\")\n",
    "        k+=1\n",
    "\n",
    "fig.tight_layout()"
   ]
  },
  {
   "cell_type": "markdown",
   "id": "bca4c846",
   "metadata": {},
   "source": [
    "Now that we have gone through the more interesting attributes in the data set, lets have a look how they correlate with each other.\n",
    "\n",
    "It can be that there are quite high correlation between all of the metrics but the \"Engangement_comment_plug_in\". We can also see that there is some correlation between the share_count and whether the article is a top one."
   ]
  },
  {
   "cell_type": "code",
   "execution_count": 11,
   "id": "98b75cdd",
   "metadata": {},
   "outputs": [
    {
     "data": {
      "image/png": "[encoded data removed]",
      "text/plain": [
       "<Figure size 1080x576 with 2 Axes>"
      ]
     },
     "metadata": {
      "needs_background": "light"
     },
     "output_type": "display_data"
    }
   ],
   "source": [
    "corr = df.drop(columns=[\"Year\"]).corr()\n",
    "plt.figure(figsize=(15,8))\n",
    "ax1 = sns.heatmap(corr, linewidths=2, square=True, cmap='rocket')\n",
    "plt.show()"
   ]
  },
  {
   "cell_type": "markdown",
   "id": "a4390025",
   "metadata": {},
   "source": [
    "### Scraping pictures"
   ]
  },
  {
   "cell_type": "markdown",
   "id": "3bd0d677",
   "metadata": {},
   "source": [
    "In our data set we also have a column containing URLS for the cover picture of every article. This could be quite interesting to use in our final prediction model. Therefore we will scarpe all the images we can get a hold of. Scraping pictures from specific URLS are different than pinging a website for different content. "
   ]
  },
  {
   "cell_type": "markdown",
   "id": "ccc6e98b",
   "metadata": {},
   "source": [
    "First we will do some data cleaning in the URLS. After some trial and error we saw specific URLS types which gave a bad respond but could modified."
   ]
  },
  {
   "cell_type": "code",
   "execution_count": 12,
   "id": "08ad2661",
   "metadata": {},
   "outputs": [],
   "source": [
    "front = \"/images/\"\n",
    "front2 = \"/image/\"\n",
    "end = \"-\"\n",
    "Front_url = \"https://i.insider.com/\"\n",
    "\n",
    "new_urls=[]\n",
    "\n",
    "for i in range(len(df)):\n",
    "    if df.source_id.iloc[i] == \"business-insider\":\n",
    "        try:\n",
    "                if df.iloc[i].url_to_image[0:11] == \"https://amp\":\n",
    "                    id_name = re.search(f'{front}(.*)', df.iloc[i].url_to_image.split(\"-\")[0]).group(1)\n",
    "                    full_url = Front_url+id_name\n",
    "                    new_urls.append(full_url)\n",
    "\n",
    "                else:\n",
    "                    id_name=re.search(f'{front2}(.*)', df.iloc[i].url_to_image.split(\"-\")[0]).group(1)\n",
    "                    full_url = Front_url+id_name\n",
    "                    new_urls.append(full_url)\n",
    "        except:\n",
    "            new_urls.append(df.iloc[i].url_to_image)\n",
    "    else: new_urls.append(df.iloc[i].url_to_image)"
   ]
  },
  {
   "cell_type": "markdown",
   "id": "309e0671",
   "metadata": {},
   "source": [
    "We then save a list with All the new URLS and their index in the data frame."
   ]
  },
  {
   "cell_type": "code",
   "execution_count": 13,
   "id": "a13d5a37",
   "metadata": {},
   "outputs": [],
   "source": [
    "df['url_to_image_real'] = new_urls\n",
    "urls = [x for x in df.url_to_image_real]\n",
    "index = [x for x in df.index]"
   ]
  },
  {
   "cell_type": "markdown",
   "id": "d59d1ebe",
   "metadata": {},
   "source": [
    "This function will create a request to the given URL, save the picture as `.png` . Then reopen the picture, resize it to a $128 \\times 128$ shape and finally save it. "
   ]
  },
  {
   "cell_type": "code",
   "execution_count": 14,
   "id": "b81b0a2b",
   "metadata": {},
   "outputs": [],
   "source": [
    "def im_scrape(urls,filename):\n",
    "    call = requests.get(urls)\n",
    "    if str(call) == \"<Response [200]>\":\n",
    "        img_data = call.content\n",
    "        with open(f'images/{filename}.png', 'wb') as handler:\n",
    "             handler.write(img_data)\n",
    "        #time.sleep(2) \n",
    "        image=Image.open(f\"images/{filename}.png\")\n",
    "        resized_image = image.resize((128,128))\n",
    "        resized_image.save(f'images/{filename}.png')\n",
    "        \n",
    "    else:\n",
    "        print(urls)"
   ]
  },
  {
   "cell_type": "code",
   "execution_count": 103,
   "metadata": {},
   "outputs": [
    {
     "data": {
      "text/plain": [
       "'\\nfor i in range(len(urls)): #dont run me :)\\n    try:\\n        im_scrape(urls[i],index[i])\\n    except: #print all failing URLS\\n        print(urls[i])\\n'"
      ]
     },
     "execution_count": 103,
     "metadata": {},
     "output_type": "execute_result"
    }
   ],
   "source": [
    "# The following code chunk scrapes all the images. Dont run this.\n",
    "'''\n",
    "for i in range(len(urls)): #dont run me :)\n",
    "    try:\n",
    "        im_scrape(urls[i],index[i])\n",
    "    except: #print all failing URLS\n",
    "        print(urls[i])\n",
    "'''"
   ]
  },
  {
   "cell_type": "markdown",
   "id": "9f1954ba",
   "metadata": {},
   "source": [
    "Since then plan was to use the images for predictions, all articles withouth an associated image will be removed from our data set. This leaves us with roughly 7500 articles."
   ]
  },
  {
   "cell_type": "code",
   "execution_count": 15,
   "id": "23b24daa",
   "metadata": {},
   "outputs": [],
   "source": [
    "mypath=\"Data\\images\"\n",
    "onlyfiles = [f for f in listdir(mypath) if isfile(join(mypath, f))]\n",
    "\n",
    "sorted_list = [x.split(\".\")[0] for x in onlyfiles]\n",
    "sorted_list = sorted(sorted_list)[1:]\n",
    "sorted_list_number = sorted([int(x) for x in sorted_list])\n",
    "sorted_list = [str(x)+\".png\" for x in sorted_list_number]\n",
    "\n",
    "\n",
    "df = df.loc[sorted_list_number]\n",
    "df['Image_path'] = sorted_list"
   ]
  },
  {
   "cell_type": "markdown",
   "id": "42a12430",
   "metadata": {},
   "source": [
    "## Topic modeling with BERT and text cleaning"
   ]
  },
  {
   "cell_type": "markdown",
   "id": "1ef1820b",
   "metadata": {},
   "source": [
    "The purpose of topic modeling on the dataset is to find keywords/topics for each article to give as input to Google Trends API to get an insight how popular certaint topics were at given timestamp.\n",
    "\n",
    "For topic modeling `BERTopic` made by Maarten Grootendorst will be used, which is a Bidirectional Encoder Representations from Transformers (BERT) based topic modeling technique [[4]](https://github.com/MaartenGr/BERTopic). \n",
    "\n",
    "The first step of `BERTopic` is converting the documents to numerical data. This is where BERT are used to extract different embeddings based on the context of the word using pretrained language model. The second step is to reduce the dimensionality of the resulting embeddings to optimize the clusteringprocess. `BERTopic` does this with the `UMAP()` algorithm. After having reduced the dimensionality of the documents embeddings, `BERTopic` cluster the documents with `HDBSCAN()`. Lastly, from the clusters of documents,topic representations are extracted using a custom class-based variation of TF-IDF (c-TF-IDF).\n",
    "\n",
    "`BERTopic` is used because it extracts the different embeddings based on the context of the word, instead of LDA's bag-of-words approach, which is believed to be important when making topics for articles."
   ]
  },
  {
   "cell_type": "markdown",
   "id": "bc6ce131",
   "metadata": {},
   "source": [
    "First, filter the data from stopwords and then lemmatize it, this will be done with the `nltk` library."
   ]
  },
  {
   "cell_type": "code",
   "execution_count": 16,
   "id": "4bd8d619",
   "metadata": {},
   "outputs": [],
   "source": [
    "#Function for cleaning text\n",
    "def cleaned_text(text, source_name):\n",
    "    try:\n",
    "\n",
    "        if source_name == 'Reuters':\n",
    "            clean = re.split('-',text,1)[1] #splitting str by \"-\" keeping 2nd half\n",
    "            clean = re.sub(\"\\n\",\" \",clean) #Replace newline with \" \"\n",
    "            clean = clean.lower() #Lower case str\n",
    "            clean = re.sub(r\"[~.,%/:;?_&+*=!-]\",\" \",clean) #Remove all special characters from string\n",
    "            clean = re.sub(\"\\[.*?\\]\", \"\", clean) #Remove last two hard brackets and all characters inside\n",
    "            clean = re.sub(\"[^a-z]\",\" \",clean) #Remove all uppercase characters\n",
    "            clean = clean.lstrip() #Remove any leading characters\n",
    "            clean = re.sub(\"\\s{2,}\",\" \",clean) #Make any double spacing to single spacing\n",
    "\n",
    "        else:\n",
    "            clean = re.sub(\"\\n\",\" \",text)\n",
    "            clean = clean.lower()\n",
    "            clean = re.sub(r\"[~.,%/:;?_&+*=!-]\",\" \",clean)\n",
    "            clean = re.sub(\"\\[.*?\\]\", \"\", clean)\n",
    "            clean = re.sub(\"[^a-z]\",\" \",clean)\n",
    "            clean = clean.lstrip()\n",
    "            clean = re.sub(\"\\s{2,}\",\" \",clean)\n",
    "    except:\n",
    "        clean = np.nan\n",
    "    return clean\n",
    "\n",
    "#Function for cleaning headline\n",
    "def cleaned_title(text):\n",
    "    clean = re.sub(\"\\n\",\" \",text)\n",
    "    clean = clean.lower()\n",
    "    clean = re.sub(r\"[~.,%/:;?_&+*=!-]\",\" \",clean)\n",
    "    clean = re.sub(\"\\[.*?\\]\", \"\", clean)\n",
    "    clean = re.sub(\"[^a-z]\",\" \",clean)\n",
    "    clean = clean.lstrip()\n",
    "    clean = re.sub(\"\\s{2,}\",\" \",clean)\n",
    "    \n",
    "    return clean"
   ]
  },
  {
   "cell_type": "code",
   "execution_count": 17,
   "id": "fa979c26",
   "metadata": {},
   "outputs": [],
   "source": [
    "# Cleaning text\n",
    "df[\"cleaned_content\"] = df.apply(lambda x : cleaned_text(x['content'], x['source_name']), axis=1)\n",
    "df[\"cleaned_title\"] = df.apply(lambda x : cleaned_title(x['title']), axis=1)\n",
    "\n",
    "# Drop rows with nan in column cleaned_content\n",
    "df = df.dropna(subset = ['cleaned_content'])\n",
    "df = df.reset_index(drop=True)"
   ]
  },
  {
   "cell_type": "markdown",
   "metadata": {},
   "source": [
    "Next, all stopwords are removed. It was found that the word 'say' had a high frequency, whitout giving much information. Thus it was removed along with the stopwords. "
   ]
  },
  {
   "cell_type": "code",
   "execution_count": 18,
   "id": "05f89921",
   "metadata": {},
   "outputs": [],
   "source": [
    "stop = stopwords.words('english')\n",
    "stop.append(\"say\")\n",
    "# Remove stopwords\n",
    "df[\"stop_removed_content\"]=df[\"cleaned_content\"].apply(lambda x: ' '.join([word for word in x.split() if word not in (stop)]))"
   ]
  },
  {
   "cell_type": "code",
   "execution_count": 19,
   "id": "c6dcf9b9",
   "metadata": {},
   "outputs": [],
   "source": [
    "# Tokenize\n",
    "df[\"tokenized\"]=df[\"stop_removed_content\"].apply(lambda x: nltk.word_tokenize(x))"
   ]
  },
  {
   "cell_type": "code",
   "execution_count": 20,
   "id": "549cd903",
   "metadata": {},
   "outputs": [],
   "source": [
    "# Function for lematize\n",
    "def word_lemmatizer(text):\n",
    "    lem_text = [WordNetLemmatizer().lemmatize(i,pos='v') for i in text]\n",
    "    return lem_text\n",
    "\n",
    "# Lematize\n",
    "df[\"lemmatized\"] = df[\"tokenized\"].apply(lambda x: word_lemmatizer(x))\n",
    "df[\"lemmatize_joined\"] = df[\"lemmatized\"].apply(lambda x: ' '.join(x))"
   ]
  },
  {
   "cell_type": "markdown",
   "metadata": {},
   "source": [
    "An example of the text preprocessing done above can be seen here: "
   ]
  },
  {
   "cell_type": "code",
   "execution_count": 23,
   "metadata": {},
   "outputs": [
    {
     "name": "stdout",
     "output_type": "stream",
     "text": [
      "Old sentence: LONDON (Reuters) - The European Union is waiting to see if British lawmakers block Brexit before giving Britain concessions to strike a new withdrawal agreement, Prime Minister Boris Johnson said. \n",
      "Johnson, who has pledged that Britain will leave the EU on O… [+777 chars] \n",
      " \n",
      "New sentence: european union wait see british lawmakers block brexit give britain concessions strike new withdrawal agreement prime minister boris johnson say johnson pledge britain leave eu\n"
     ]
    }
   ],
   "source": [
    "print(f\"Old sentence: {df['content'][3]} \\n \\nNew sentence: {df['lemmatize_joined'][3]}\")"
   ]
  },
  {
   "cell_type": "markdown",
   "id": "a7274a37",
   "metadata": {},
   "source": [
    "Next, the topic will be created with the `BERTopic` library. The pre-trained embedding model named `all-MiniLM-L6-v2` will be used, which is a general purpose model trained on more than 1 billion training pairs. There are many different pre-trained embedding model, which can be found at sbert.net [[5]](https://www.sbert.net/docs/pretrained_models.html). `all-MiniLM-L6-v2` is chosen because it has a good trade-off between performance and speed."
   ]
  },
  {
   "cell_type": "code",
   "execution_count": 43,
   "id": "14afbb65",
   "metadata": {},
   "outputs": [],
   "source": [
    "# create model\n",
    "\n",
    "#model = BERTopic(verbose=True, embedding_model = 'all-MiniLM-L6-v2', calculate_probabilities = True, nr_topics=\"auto\")\n",
    " \n",
    "#topics, probabilities = model.fit_transform(df['lemmatize_joined'])\n",
    "\n",
    "# Save model\n",
    "\n",
    "#model.save(\"topics_model\")"
   ]
  },
  {
   "cell_type": "code",
   "execution_count": 45,
   "metadata": {},
   "outputs": [
    {
     "name": "stderr",
     "output_type": "stream",
     "text": [
      "Batches: 100%|██████████| 254/254 [02:32<00:00,  1.66it/s]\n",
      "2022-05-09 21:14:44,141 - BERTopic - Reduced dimensionality with UMAP\n",
      "2022-05-09 21:14:45,963 - BERTopic - Predicted clusters with HDBSCAN\n",
      "2022-05-09 21:15:23,358 - BERTopic - Calculated probabilities with HDBSCAN\n"
     ]
    }
   ],
   "source": [
    "# Load model\n",
    "\n",
    "model = BERTopic.load(\"topics_model\")\n",
    "\n",
    "topics, probabilities = model.transform(df['lemmatize_joined'])"
   ]
  },
  {
   "cell_type": "markdown",
   "id": "0047cf0b",
   "metadata": {},
   "source": [
    "The model finds 114 topics, where -1 refers to all documents that did not have any topics assigned. So, 2483 articles have not been assigned a topic.\n",
    "\n",
    "`BERTopic` uses the clustering algorithm `HDBSCAN` [[6]](https://hdbscan.readthedocs.io/en/latest/how_hdbscan_works.html) and a trait with this algorithm is that it doesn't force all documents/articles towards a certain cluster. If no cluster could be found, then it is simply an outlier."
   ]
  },
  {
   "cell_type": "code",
   "execution_count": 46,
   "id": "62d22611",
   "metadata": {},
   "outputs": [
    {
     "name": "stdout",
     "output_type": "stream",
     "text": [
      "Number of topics the model find: 114\n",
      "Number of articles with an assigned topic: 5637\n"
     ]
    },
    {
     "data": {
      "text/html": [
       "<div>\n",
       "<style scoped>\n",
       "    .dataframe tbody tr th:only-of-type {\n",
       "        vertical-align: middle;\n",
       "    }\n",
       "\n",
       "    .dataframe tbody tr th {\n",
       "        vertical-align: top;\n",
       "    }\n",
       "\n",
       "    .dataframe thead th {\n",
       "        text-align: right;\n",
       "    }\n",
       "</style>\n",
       "<table border=\"1\" class=\"dataframe\">\n",
       "  <thead>\n",
       "    <tr style=\"text-align: right;\">\n",
       "      <th></th>\n",
       "      <th>Topic</th>\n",
       "      <th>Count</th>\n",
       "    </tr>\n",
       "  </thead>\n",
       "  <tbody>\n",
       "    <tr>\n",
       "      <th>0</th>\n",
       "      <td>-1</td>\n",
       "      <td>2483</td>\n",
       "    </tr>\n",
       "    <tr>\n",
       "      <th>1</th>\n",
       "      <td>0</td>\n",
       "      <td>453</td>\n",
       "    </tr>\n",
       "    <tr>\n",
       "      <th>2</th>\n",
       "      <td>1</td>\n",
       "      <td>386</td>\n",
       "    </tr>\n",
       "    <tr>\n",
       "      <th>3</th>\n",
       "      <td>2</td>\n",
       "      <td>345</td>\n",
       "    </tr>\n",
       "    <tr>\n",
       "      <th>4</th>\n",
       "      <td>3</td>\n",
       "      <td>306</td>\n",
       "    </tr>\n",
       "    <tr>\n",
       "      <th>...</th>\n",
       "      <td>...</td>\n",
       "      <td>...</td>\n",
       "    </tr>\n",
       "    <tr>\n",
       "      <th>109</th>\n",
       "      <td>108</td>\n",
       "      <td>11</td>\n",
       "    </tr>\n",
       "    <tr>\n",
       "      <th>110</th>\n",
       "      <td>109</td>\n",
       "      <td>11</td>\n",
       "    </tr>\n",
       "    <tr>\n",
       "      <th>111</th>\n",
       "      <td>110</td>\n",
       "      <td>10</td>\n",
       "    </tr>\n",
       "    <tr>\n",
       "      <th>112</th>\n",
       "      <td>111</td>\n",
       "      <td>10</td>\n",
       "    </tr>\n",
       "    <tr>\n",
       "      <th>113</th>\n",
       "      <td>112</td>\n",
       "      <td>10</td>\n",
       "    </tr>\n",
       "  </tbody>\n",
       "</table>\n",
       "<p>114 rows × 2 columns</p>\n",
       "</div>"
      ],
      "text/plain": [
       "     Topic  Count\n",
       "0       -1   2483\n",
       "1        0    453\n",
       "2        1    386\n",
       "3        2    345\n",
       "4        3    306\n",
       "..     ...    ...\n",
       "109    108     11\n",
       "110    109     11\n",
       "111    110     10\n",
       "112    111     10\n",
       "113    112     10\n",
       "\n",
       "[114 rows x 2 columns]"
      ]
     },
     "execution_count": 46,
     "metadata": {},
     "output_type": "execute_result"
    }
   ],
   "source": [
    "print(f'Number of topics the model find: {len(model.get_topic_freq())}')\n",
    "print(f'Number of articles with an assigned topic: {model.get_topic_freq().Count[1:].sum()}')\n",
    "model.get_topic_freq()"
   ]
  },
  {
   "cell_type": "markdown",
   "metadata": {},
   "source": [
    "It is possible to \"force\" outlier articles into topics by looking at the probabilities for each article to be in each topic.  This is done by selecting for each article the topic with the highest probability with a given threshold. However, after testing can it not argument for the trade-off of only losing 59 outlier articles with a probability of 10%."
   ]
  },
  {
   "cell_type": "code",
   "execution_count": 48,
   "metadata": {},
   "outputs": [
    {
     "name": "stdout",
     "output_type": "stream",
     "text": [
      "Number of new articles with an assigned topic: 59\n"
     ]
    }
   ],
   "source": [
    "probability_threshold = 0.1\n",
    "new_topics = [np.argmax(prob) if max(prob) >= probability_threshold else -1 for prob in probabilities]\n",
    "# Calculate the number of new articles with topics\n",
    "print(f'Number of new articles with an assigned topic: {model.get_topic_freq().Count[0].sum()-new_topics.count(-1)}')"
   ]
  },
  {
   "cell_type": "markdown",
   "id": "25dfc4ed",
   "metadata": {},
   "source": [
    "Following code chunk makes a visual graph of the 12 largest topics. "
   ]
  },
  {
   "cell_type": "code",
   "execution_count": 49,
   "id": "97bfa9da",
   "metadata": {},
   "outputs": [],
   "source": [
    "# Defining new visualize_barchart function \n",
    "# Modification of code from https://github.com/MaartenGr/BERTopic/blob/master/bertopic/plotting/_barchart.py [6]\n",
    "def visualize_barchart2(topic_model,\n",
    "                       topics: List[int] = None,\n",
    "                       top_n_topics: int = 12,\n",
    "                       n_words: int = 5,\n",
    "                       width: int = 250,\n",
    "                       height: int = 250) -> go.Figure:\n",
    "    colors = itertools.cycle([\"#D55E00\", \"#0072B2\", \"#CC79A7\", \"#E69F00\", \"#56B4E9\", \"#009E73\", \"#F0E442\"])\n",
    "\n",
    "    # Select topics based on top_n and topics args\n",
    "    if topics is not None:\n",
    "        topics = list(topics)\n",
    "    elif top_n_topics is not None:\n",
    "        topics = topic_model.get_topic_freq().Topic.to_list()[1:top_n_topics + 1]\n",
    "    else:\n",
    "        topics = topic_model.get_topic_freq().Topic.to_list()[1:7]\n",
    "\n",
    "    # Initialize figure\n",
    "    subplot_titles = [f\"Topic {topic}\" for topic in topics]\n",
    "    columns = 4\n",
    "    rows = int(np.ceil(len(topics) / columns))\n",
    "    fig = make_subplots(rows=rows,\n",
    "                        cols=columns,\n",
    "                        shared_xaxes=False,\n",
    "                        x_title = 'c-TF-IDF score',\n",
    "                        y_title = 'top 5 words',\n",
    "                        horizontal_spacing=.1,\n",
    "                        vertical_spacing=.4 / rows if rows > 1 else 0,\n",
    "                        subplot_titles=subplot_titles)\n",
    "\n",
    "    # Add barchart for each topic\n",
    "    row = 1\n",
    "    column = 1\n",
    "    for topic in topics:\n",
    "        words = [word + \"  \" for word, _ in topic_model.get_topic(topic)][:n_words][::-1]\n",
    "        scores = [score for _, score in topic_model.get_topic(topic)][:n_words][::-1]\n",
    "\n",
    "        fig.add_trace(\n",
    "            go.Bar(x=scores,\n",
    "                   y=words,\n",
    "                   orientation='h',\n",
    "                   marker_color=next(colors)),\n",
    "            row=row, col=column)\n",
    "\n",
    "        if column == columns:\n",
    "            column = 1\n",
    "            row += 1\n",
    "        else:\n",
    "            column += 1\n",
    "\n",
    "    # Stylize graph\n",
    "    fig.update_layout(\n",
    "        template=\"plotly_white\",\n",
    "        showlegend=False,\n",
    "        title={\n",
    "            'text': \"<b>Topic Word Scores\",\n",
    "            'x': .5,\n",
    "            'xanchor': 'center',\n",
    "            'yanchor': 'top',\n",
    "            'font': dict(\n",
    "                size=22,\n",
    "                color=\"Black\")\n",
    "        },\n",
    "        width=width*4,\n",
    "        height=height*rows if rows > 1 else height * 1.3,\n",
    "        hoverlabel=dict(\n",
    "            bgcolor=\"white\",\n",
    "            font_size=16,\n",
    "            font_family=\"Rockwell\"\n",
    "        ),\n",
    "    )\n",
    "    \n",
    "    \n",
    "    fig.update_xaxes(showgrid=True)\n",
    "    fig.update_yaxes(showgrid=True)\n",
    "    \n",
    "    return fig"
   ]
  },
  {
   "cell_type": "code",
   "execution_count": 50,
   "id": "44207018",
   "metadata": {},
   "outputs": [
    {
     "data": {
      "application/vnd.plotly.v1+json": {
       "config": {
        "plotlyServerURL": "https://plot.ly"
       },
       "data": [
        {
         "marker": {
          "color": "#D55E00"
         },
         "orientation": "h",
         "type": "bar",
         "x": [
          0.018420560743553537,
          0.019356583679588407,
          0.020628237955359344,
          0.024896138734788444,
          0.02619134253295411
         ],
         "xaxis": "x",
         "y": [
          "ukraine  ",
          "impeachment  ",
          "donald  ",
          "president  ",
          "trump  "
         ],
         "yaxis": "y"
        },
        {
         "marker": {
          "color": "#0072B2"
         },
         "orientation": "h",
         "type": "bar",
         "x": [
          0.03207050408270601,
          0.03295039819067224,
          0.04516914438090231,
          0.048463276004696076,
          0.04851122888988457
         ],
         "xaxis": "x2",
         "y": [
          "minister  ",
          "prime  ",
          "boris  ",
          "johnson  ",
          "brexit  "
         ],
         "yaxis": "y2"
        },
        {
         "marker": {
          "color": "#CC79A7"
         },
         "orientation": "h",
         "type": "bar",
         "x": [
          0.02447025265478046,
          0.03402954072336821,
          0.03697861179462081,
          0.04962951726644783,
          0.05663822724127351
         ],
         "xaxis": "x3",
         "y": [
          "coast  ",
          "bahamas  ",
          "storm  ",
          "dorian  ",
          "hurricane  "
         ],
         "yaxis": "y3"
        },
        {
         "marker": {
          "color": "#E69F00"
         },
         "orientation": "h",
         "type": "bar",
         "x": [
          0.024351948862166982,
          0.024403449604295774,
          0.029051939466698224,
          0.04000356080255543,
          0.04407291863520427
         ],
         "xaxis": "x4",
         "y": [
          "attack  ",
          "drone  ",
          "arabia  ",
          "oil  ",
          "saudi  "
         ],
         "yaxis": "y4"
        },
        {
         "marker": {
          "color": "#56B4E9"
         },
         "orientation": "h",
         "type": "bar",
         "x": [
          0.02280291218164555,
          0.024595319946275604,
          0.029010885294111652,
          0.029200101501562457,
          0.03838764458951808
         ],
         "xaxis": "x5",
         "y": [
          "economy  ",
          "tariff  ",
          "stock  ",
          "china  ",
          "trade  "
         ],
         "yaxis": "y5"
        },
        {
         "marker": {
          "color": "#009E73"
         },
         "orientation": "h",
         "type": "bar",
         "x": [
          0.020776715590891504,
          0.02245277807626752,
          0.026820331426174026,
          0.02818320087261574,
          0.04368014759822611
         ],
         "xaxis": "x6",
         "y": [
          "pilot  ",
          "car  ",
          "flight  ",
          "plane  ",
          "crash  "
         ],
         "yaxis": "y6"
        },
        {
         "marker": {
          "color": "#F0E442"
         },
         "orientation": "h",
         "type": "bar",
         "x": [
          0.023380104011973876,
          0.025998607744705093,
          0.029338094644575954,
          0.06441166984903213,
          0.08494557769033823
         ],
         "xaxis": "x7",
         "y": [
          "stream  ",
          "event  ",
          "pro  ",
          "iphone  ",
          "apple  "
         ],
         "yaxis": "y7"
        },
        {
         "marker": {
          "color": "#D55E00"
         },
         "orientation": "h",
         "type": "bar",
         "x": [
          0.034097931447351244,
          0.039932829850312025,
          0.04959997374714223,
          0.08288748636129287,
          0.09312613629222469
         ],
         "xaxis": "x8",
         "y": [
          "police  ",
          "protesters  ",
          "protest  ",
          "kong  ",
          "hong  "
         ],
         "yaxis": "y8"
        },
        {
         "marker": {
          "color": "#0072B2"
         },
         "orientation": "h",
         "type": "bar",
         "x": [
          0.02544477989672245,
          0.026780852957146665,
          0.03644395954038338,
          0.03658605413065759,
          0.049596402710940235
         ],
         "xaxis": "x9",
         "y": [
          "irish  ",
          "world  ",
          "ireland  ",
          "cup  ",
          "rugby  "
         ],
         "yaxis": "y9"
        },
        {
         "marker": {
          "color": "#CC79A7"
         },
         "orientation": "h",
         "type": "bar",
         "x": [
          0.02628481530874574,
          0.02643840168535078,
          0.03160702870006407,
          0.04144730099677425,
          0.05512772949050289
         ],
         "xaxis": "x10",
         "y": [
          "quarterback  ",
          "game  ",
          "brown  ",
          "season  ",
          "nfl  "
         ],
         "yaxis": "y10"
        },
        {
         "marker": {
          "color": "#E69F00"
         },
         "orientation": "h",
         "type": "bar",
         "x": [
          0.022519872087907553,
          0.02366305544070324,
          0.025926375783086094,
          0.03479592696231252,
          0.04278866826540388
         ],
         "xaxis": "x11",
         "y": [
          "meat  ",
          "fast  ",
          "restaurant  ",
          "li  ",
          "food  "
         ],
         "yaxis": "y11"
        },
        {
         "marker": {
          "color": "#56B4E9"
         },
         "orientation": "h",
         "type": "bar",
         "x": [
          0.01968095202813153,
          0.028463553894039217,
          0.029017166539655085,
          0.030446034118789815,
          0.06951166956344838
         ],
         "xaxis": "x12",
         "y": [
          "teachers  ",
          "education  ",
          "parent  ",
          "students  ",
          "school  "
         ],
         "yaxis": "y12"
        }
       ],
       "layout": {
        "annotations": [
         {
          "font": {
           "size": 16
          },
          "showarrow": false,
          "text": "Topic 0",
          "x": 0.0875,
          "xanchor": "center",
          "xref": "paper",
          "y": 1,
          "yanchor": "bottom",
          "yref": "paper"
         },
         {
          "font": {
           "size": 16
          },
          "showarrow": false,
          "text": "Topic 1",
          "x": 0.36250000000000004,
          "xanchor": "center",
          "xref": "paper",
          "y": 1,
          "yanchor": "bottom",
          "yref": "paper"
         },
         {
          "font": {
           "size": 16
          },
          "showarrow": false,
          "text": "Topic 2",
          "x": 0.6375000000000001,
          "xanchor": "center",
          "xref": "paper",
          "y": 1,
          "yanchor": "bottom",
          "yref": "paper"
         },
         {
          "font": {
           "size": 16
          },
          "showarrow": false,
          "text": "Topic 3",
          "x": 0.9125,
          "xanchor": "center",
          "xref": "paper",
          "y": 1,
          "yanchor": "bottom",
          "yref": "paper"
         },
         {
          "font": {
           "size": 16
          },
          "showarrow": false,
          "text": "Topic 4",
          "x": 0.0875,
          "xanchor": "center",
          "xref": "paper",
          "y": 0.6222222222222222,
          "yanchor": "bottom",
          "yref": "paper"
         },
         {
          "font": {
           "size": 16
          },
          "showarrow": false,
          "text": "Topic 5",
          "x": 0.36250000000000004,
          "xanchor": "center",
          "xref": "paper",
          "y": 0.6222222222222222,
          "yanchor": "bottom",
          "yref": "paper"
         },
         {
          "font": {
           "size": 16
          },
          "showarrow": false,
          "text": "Topic 6",
          "x": 0.6375000000000001,
          "xanchor": "center",
          "xref": "paper",
          "y": 0.6222222222222222,
          "yanchor": "bottom",
          "yref": "paper"
         },
         {
          "font": {
           "size": 16
          },
          "showarrow": false,
          "text": "Topic 7",
          "x": 0.9125,
          "xanchor": "center",
          "xref": "paper",
          "y": 0.6222222222222222,
          "yanchor": "bottom",
          "yref": "paper"
         },
         {
          "font": {
           "size": 16
          },
          "showarrow": false,
          "text": "Topic 8",
          "x": 0.0875,
          "xanchor": "center",
          "xref": "paper",
          "y": 0.24444444444444446,
          "yanchor": "bottom",
          "yref": "paper"
         },
         {
          "font": {
           "size": 16
          },
          "showarrow": false,
          "text": "Topic 9",
          "x": 0.36250000000000004,
          "xanchor": "center",
          "xref": "paper",
          "y": 0.24444444444444446,
          "yanchor": "bottom",
          "yref": "paper"
         },
         {
          "font": {
           "size": 16
          },
          "showarrow": false,
          "text": "Topic 10",
          "x": 0.6375000000000001,
          "xanchor": "center",
          "xref": "paper",
          "y": 0.24444444444444446,
          "yanchor": "bottom",
          "yref": "paper"
         },
         {
          "font": {
           "size": 16
          },
          "showarrow": false,
          "text": "Topic 11",
          "x": 0.9125,
          "xanchor": "center",
          "xref": "paper",
          "y": 0.24444444444444446,
          "yanchor": "bottom",
          "yref": "paper"
         },
         {
          "font": {
           "size": 16
          },
          "showarrow": false,
          "text": "c-TF-IDF score",
          "x": 0.5,
          "xanchor": "center",
          "xref": "paper",
          "y": 0,
          "yanchor": "top",
          "yref": "paper",
          "yshift": -30
         },
         {
          "font": {
           "size": 16
          },
          "showarrow": false,
          "text": "top 5 words",
          "textangle": -90,
          "x": 0,
          "xanchor": "right",
          "xref": "paper",
          "xshift": -40,
          "y": 0.5,
          "yanchor": "middle",
          "yref": "paper"
         }
        ],
        "height": 750,
        "hoverlabel": {
         "bgcolor": "white",
         "font": {
          "family": "Rockwell",
          "size": 16
         }
        },
        "showlegend": false,
        "template": {
         "data": {
          "bar": [
           {
            "error_x": {
             "color": "#2a3f5f"
            },
            "error_y": {
             "color": "#2a3f5f"
            },
            "marker": {
             "line": {
              "color": "white",
              "width": 0.5
             },
             "pattern": {
              "fillmode": "overlay",
              "size": 10,
              "solidity": 0.2
             }
            },
            "type": "bar"
           }
          ],
          "barpolar": [
           {
            "marker": {
             "line": {
              "color": "white",
              "width": 0.5
             },
             "pattern": {
              "fillmode": "overlay",
              "size": 10,
              "solidity": 0.2
             }
            },
            "type": "barpolar"
           }
          ],
          "carpet": [
           {
            "aaxis": {
             "endlinecolor": "#2a3f5f",
             "gridcolor": "#C8D4E3",
             "linecolor": "#C8D4E3",
             "minorgridcolor": "#C8D4E3",
             "startlinecolor": "#2a3f5f"
            },
            "baxis": {
             "endlinecolor": "#2a3f5f",
             "gridcolor": "#C8D4E3",
             "linecolor": "#C8D4E3",
             "minorgridcolor": "#C8D4E3",
             "startlinecolor": "#2a3f5f"
            },
            "type": "carpet"
           }
          ],
          "choropleth": [
           {
            "colorbar": {
             "outlinewidth": 0,
             "ticks": ""
            },
            "type": "choropleth"
           }
          ],
          "contour": [
           {
            "colorbar": {
             "outlinewidth": 0,
             "ticks": ""
            },
            "colorscale": [
             [
              0,
              "#0d0887"
             ],
             [
              0.1111111111111111,
              "#46039f"
             ],
             [
              0.2222222222222222,
              "#7201a8"
             ],
             [
              0.3333333333333333,
              "#9c179e"
             ],
             [
              0.4444444444444444,
              "#bd3786"
             ],
             [
              0.5555555555555556,
              "#d8576b"
             ],
             [
              0.6666666666666666,
              "#ed7953"
             ],
             [
              0.7777777777777778,
              "#fb9f3a"
             ],
             [
              0.8888888888888888,
              "#fdca26"
             ],
             [
              1,
              "#f0f921"
             ]
            ],
            "type": "contour"
           }
          ],
          "contourcarpet": [
           {
            "colorbar": {
             "outlinewidth": 0,
             "ticks": ""
            },
            "type": "contourcarpet"
           }
          ],
          "heatmap": [
           {
            "colorbar": {
             "outlinewidth": 0,
             "ticks": ""
            },
            "colorscale": [
             [
              0,
              "#0d0887"
             ],
             [
              0.1111111111111111,
              "#46039f"
             ],
             [
              0.2222222222222222,
              "#7201a8"
             ],
             [
              0.3333333333333333,
              "#9c179e"
             ],
             [
              0.4444444444444444,
              "#bd3786"
             ],
             [
              0.5555555555555556,
              "#d8576b"
             ],
             [
              0.6666666666666666,
              "#ed7953"
             ],
             [
              0.7777777777777778,
              "#fb9f3a"
             ],
             [
              0.8888888888888888,
              "#fdca26"
             ],
             [
              1,
              "#f0f921"
             ]
            ],
            "type": "heatmap"
           }
          ],
          "heatmapgl": [
           {
            "colorbar": {
             "outlinewidth": 0,
             "ticks": ""
            },
            "colorscale": [
             [
              0,
              "#0d0887"
             ],
             [
              0.1111111111111111,
              "#46039f"
             ],
             [
              0.2222222222222222,
              "#7201a8"
             ],
             [
              0.3333333333333333,
              "#9c179e"
             ],
             [
              0.4444444444444444,
              "#bd3786"
             ],
             [
              0.5555555555555556,
              "#d8576b"
             ],
             [
              0.6666666666666666,
              "#ed7953"
             ],
             [
              0.7777777777777778,
              "#fb9f3a"
             ],
             [
              0.8888888888888888,
              "#fdca26"
             ],
             [
              1,
              "#f0f921"
             ]
            ],
            "type": "heatmapgl"
           }
          ],
          "histogram": [
           {
            "marker": {
             "pattern": {
              "fillmode": "overlay",
              "size": 10,
              "solidity": 0.2
             }
            },
            "type": "histogram"
           }
          ],
          "histogram2d": [
           {
            "colorbar": {
             "outlinewidth": 0,
             "ticks": ""
            },
            "colorscale": [
             [
              0,
              "#0d0887"
             ],
             [
              0.1111111111111111,
              "#46039f"
             ],
             [
              0.2222222222222222,
              "#7201a8"
             ],
             [
              0.3333333333333333,
              "#9c179e"
             ],
             [
              0.4444444444444444,
              "#bd3786"
             ],
             [
              0.5555555555555556,
              "#d8576b"
             ],
             [
              0.6666666666666666,
              "#ed7953"
             ],
             [
              0.7777777777777778,
              "#fb9f3a"
             ],
             [
              0.8888888888888888,
              "#fdca26"
             ],
             [
              1,
              "#f0f921"
             ]
            ],
            "type": "histogram2d"
           }
          ],
          "histogram2dcontour": [
           {
            "colorbar": {
             "outlinewidth": 0,
             "ticks": ""
            },
            "colorscale": [
             [
              0,
              "#0d0887"
             ],
             [
              0.1111111111111111,
              "#46039f"
             ],
             [
              0.2222222222222222,
              "#7201a8"
             ],
             [
              0.3333333333333333,
              "#9c179e"
             ],
             [
              0.4444444444444444,
              "#bd3786"
             ],
             [
              0.5555555555555556,
              "#d8576b"
             ],
             [
              0.6666666666666666,
              "#ed7953"
             ],
             [
              0.7777777777777778,
              "#fb9f3a"
             ],
             [
              0.8888888888888888,
              "#fdca26"
             ],
             [
              1,
              "#f0f921"
             ]
            ],
            "type": "histogram2dcontour"
           }
          ],
          "mesh3d": [
           {
            "colorbar": {
             "outlinewidth": 0,
             "ticks": ""
            },
            "type": "mesh3d"
           }
          ],
          "parcoords": [
           {
            "line": {
             "colorbar": {
              "outlinewidth": 0,
              "ticks": ""
             }
            },
            "type": "parcoords"
           }
          ],
          "pie": [
           {
            "automargin": true,
            "type": "pie"
           }
          ],
          "scatter": [
           {
            "fillpattern": {
             "fillmode": "overlay",
             "size": 10,
             "solidity": 0.2
            },
            "type": "scatter"
           }
          ],
          "scatter3d": [
           {
            "line": {
             "colorbar": {
              "outlinewidth": 0,
              "ticks": ""
             }
            },
            "marker": {
             "colorbar": {
              "outlinewidth": 0,
              "ticks": ""
             }
            },
            "type": "scatter3d"
           }
          ],
          "scattercarpet": [
           {
            "marker": {
             "colorbar": {
              "outlinewidth": 0,
              "ticks": ""
             }
            },
            "type": "scattercarpet"
           }
          ],
          "scattergeo": [
           {
            "marker": {
             "colorbar": {
              "outlinewidth": 0,
              "ticks": ""
             }
            },
            "type": "scattergeo"
           }
          ],
          "scattergl": [
           {
            "marker": {
             "colorbar": {
              "outlinewidth": 0,
              "ticks": ""
             }
            },
            "type": "scattergl"
           }
          ],
          "scattermapbox": [
           {
            "marker": {
             "colorbar": {
              "outlinewidth": 0,
              "ticks": ""
             }
            },
            "type": "scattermapbox"
           }
          ],
          "scatterpolar": [
           {
            "marker": {
             "colorbar": {
              "outlinewidth": 0,
              "ticks": ""
             }
            },
            "type": "scatterpolar"
           }
          ],
          "scatterpolargl": [
           {
            "marker": {
             "colorbar": {
              "outlinewidth": 0,
              "ticks": ""
             }
            },
            "type": "scatterpolargl"
           }
          ],
          "scatterternary": [
           {
            "marker": {
             "colorbar": {
              "outlinewidth": 0,
              "ticks": ""
             }
            },
            "type": "scatterternary"
           }
          ],
          "surface": [
           {
            "colorbar": {
             "outlinewidth": 0,
             "ticks": ""
            },
            "colorscale": [
             [
              0,
              "#0d0887"
             ],
             [
              0.1111111111111111,
              "#46039f"
             ],
             [
              0.2222222222222222,
              "#7201a8"
             ],
             [
              0.3333333333333333,
              "#9c179e"
             ],
             [
              0.4444444444444444,
              "#bd3786"
             ],
             [
              0.5555555555555556,
              "#d8576b"
             ],
             [
              0.6666666666666666,
              "#ed7953"
             ],
             [
              0.7777777777777778,
              "#fb9f3a"
             ],
             [
              0.8888888888888888,
              "#fdca26"
             ],
             [
              1,
              "#f0f921"
             ]
            ],
            "type": "surface"
           }
          ],
          "table": [
           {
            "cells": {
             "fill": {
              "color": "#EBF0F8"
             },
             "line": {
              "color": "white"
             }
            },
            "header": {
             "fill": {
              "color": "#C8D4E3"
             },
             "line": {
              "color": "white"
             }
            },
            "type": "table"
           }
          ]
         },
         "layout": {
          "annotationdefaults": {
           "arrowcolor": "#2a3f5f",
           "arrowhead": 0,
           "arrowwidth": 1
          },
          "autotypenumbers": "strict",
          "coloraxis": {
           "colorbar": {
            "outlinewidth": 0,
            "ticks": ""
           }
          },
          "colorscale": {
           "diverging": [
            [
             0,
             "#8e0152"
            ],
            [
             0.1,
             "#c51b7d"
            ],
            [
             0.2,
             "#de77ae"
            ],
            [
             0.3,
             "#f1b6da"
            ],
            [
             0.4,
             "#fde0ef"
            ],
            [
             0.5,
             "#f7f7f7"
            ],
            [
             0.6,
             "#e6f5d0"
            ],
            [
             0.7,
             "#b8e186"
            ],
            [
             0.8,
             "#7fbc41"
            ],
            [
             0.9,
             "#4d9221"
            ],
            [
             1,
             "#276419"
            ]
           ],
           "sequential": [
            [
             0,
             "#0d0887"
            ],
            [
             0.1111111111111111,
             "#46039f"
            ],
            [
             0.2222222222222222,
             "#7201a8"
            ],
            [
             0.3333333333333333,
             "#9c179e"
            ],
            [
             0.4444444444444444,
             "#bd3786"
            ],
            [
             0.5555555555555556,
             "#d8576b"
            ],
            [
             0.6666666666666666,
             "#ed7953"
            ],
            [
             0.7777777777777778,
             "#fb9f3a"
            ],
            [
             0.8888888888888888,
             "#fdca26"
            ],
            [
             1,
             "#f0f921"
            ]
           ],
           "sequentialminus": [
            [
             0,
             "#0d0887"
            ],
            [
             0.1111111111111111,
             "#46039f"
            ],
            [
             0.2222222222222222,
             "#7201a8"
            ],
            [
             0.3333333333333333,
             "#9c179e"
            ],
            [
             0.4444444444444444,
             "#bd3786"
            ],
            [
             0.5555555555555556,
             "#d8576b"
            ],
            [
             0.6666666666666666,
             "#ed7953"
            ],
            [
             0.7777777777777778,
             "#fb9f3a"
            ],
            [
             0.8888888888888888,
             "#fdca26"
            ],
            [
             1,
             "#f0f921"
            ]
           ]
          },
          "colorway": [
           "#636efa",
           "#EF553B",
           "#00cc96",
           "#ab63fa",
           "#FFA15A",
           "#19d3f3",
           "#FF6692",
           "#B6E880",
           "#FF97FF",
           "#FECB52"
          ],
          "font": {
           "color": "#2a3f5f"
          },
          "geo": {
           "bgcolor": "white",
           "lakecolor": "white",
           "landcolor": "white",
           "showlakes": true,
           "showland": true,
           "subunitcolor": "#C8D4E3"
          },
          "hoverlabel": {
           "align": "left"
          },
          "hovermode": "closest",
          "mapbox": {
           "style": "light"
          },
          "paper_bgcolor": "white",
          "plot_bgcolor": "white",
          "polar": {
           "angularaxis": {
            "gridcolor": "#EBF0F8",
            "linecolor": "#EBF0F8",
            "ticks": ""
           },
           "bgcolor": "white",
           "radialaxis": {
            "gridcolor": "#EBF0F8",
            "linecolor": "#EBF0F8",
            "ticks": ""
           }
          },
          "scene": {
           "xaxis": {
            "backgroundcolor": "white",
            "gridcolor": "#DFE8F3",
            "gridwidth": 2,
            "linecolor": "#EBF0F8",
            "showbackground": true,
            "ticks": "",
            "zerolinecolor": "#EBF0F8"
           },
           "yaxis": {
            "backgroundcolor": "white",
            "gridcolor": "#DFE8F3",
            "gridwidth": 2,
            "linecolor": "#EBF0F8",
            "showbackground": true,
            "ticks": "",
            "zerolinecolor": "#EBF0F8"
           },
           "zaxis": {
            "backgroundcolor": "white",
            "gridcolor": "#DFE8F3",
            "gridwidth": 2,
            "linecolor": "#EBF0F8",
            "showbackground": true,
            "ticks": "",
            "zerolinecolor": "#EBF0F8"
           }
          },
          "shapedefaults": {
           "line": {
            "color": "#2a3f5f"
           }
          },
          "ternary": {
           "aaxis": {
            "gridcolor": "#DFE8F3",
            "linecolor": "#A2B1C6",
            "ticks": ""
           },
           "baxis": {
            "gridcolor": "#DFE8F3",
            "linecolor": "#A2B1C6",
            "ticks": ""
           },
           "bgcolor": "white",
           "caxis": {
            "gridcolor": "#DFE8F3",
            "linecolor": "#A2B1C6",
            "ticks": ""
           }
          },
          "title": {
           "x": 0.05
          },
          "xaxis": {
           "automargin": true,
           "gridcolor": "#EBF0F8",
           "linecolor": "#EBF0F8",
           "ticks": "",
           "title": {
            "standoff": 15
           },
           "zerolinecolor": "#EBF0F8",
           "zerolinewidth": 2
          },
          "yaxis": {
           "automargin": true,
           "gridcolor": "#EBF0F8",
           "linecolor": "#EBF0F8",
           "ticks": "",
           "title": {
            "standoff": 15
           },
           "zerolinecolor": "#EBF0F8",
           "zerolinewidth": 2
          }
         }
        },
        "title": {
         "font": {
          "color": "Black",
          "size": 22
         },
         "text": "<b>Topic Word Scores",
         "x": 0.5,
         "xanchor": "center",
         "yanchor": "top"
        },
        "width": 1000,
        "xaxis": {
         "anchor": "y",
         "domain": [
          0,
          0.175
         ],
         "showgrid": true
        },
        "xaxis10": {
         "anchor": "y10",
         "domain": [
          0.275,
          0.45
         ],
         "showgrid": true
        },
        "xaxis11": {
         "anchor": "y11",
         "domain": [
          0.55,
          0.7250000000000001
         ],
         "showgrid": true
        },
        "xaxis12": {
         "anchor": "y12",
         "domain": [
          0.825,
          1
         ],
         "showgrid": true
        },
        "xaxis2": {
         "anchor": "y2",
         "domain": [
          0.275,
          0.45
         ],
         "showgrid": true
        },
        "xaxis3": {
         "anchor": "y3",
         "domain": [
          0.55,
          0.7250000000000001
         ],
         "showgrid": true
        },
        "xaxis4": {
         "anchor": "y4",
         "domain": [
          0.825,
          1
         ],
         "showgrid": true
        },
        "xaxis5": {
         "anchor": "y5",
         "domain": [
          0,
          0.175
         ],
         "showgrid": true
        },
        "xaxis6": {
         "anchor": "y6",
         "domain": [
          0.275,
          0.45
         ],
         "showgrid": true
        },
        "xaxis7": {
         "anchor": "y7",
         "domain": [
          0.55,
          0.7250000000000001
         ],
         "showgrid": true
        },
        "xaxis8": {
         "anchor": "y8",
         "domain": [
          0.825,
          1
         ],
         "showgrid": true
        },
        "xaxis9": {
         "anchor": "y9",
         "domain": [
          0,
          0.175
         ],
         "showgrid": true
        },
        "yaxis": {
         "anchor": "x",
         "domain": [
          0.7555555555555555,
          1
         ],
         "showgrid": true
        },
        "yaxis10": {
         "anchor": "x10",
         "domain": [
          0,
          0.24444444444444446
         ],
         "showgrid": true
        },
        "yaxis11": {
         "anchor": "x11",
         "domain": [
          0,
          0.24444444444444446
         ],
         "showgrid": true
        },
        "yaxis12": {
         "anchor": "x12",
         "domain": [
          0,
          0.24444444444444446
         ],
         "showgrid": true
        },
        "yaxis2": {
         "anchor": "x2",
         "domain": [
          0.7555555555555555,
          1
         ],
         "showgrid": true
        },
        "yaxis3": {
         "anchor": "x3",
         "domain": [
          0.7555555555555555,
          1
         ],
         "showgrid": true
        },
        "yaxis4": {
         "anchor": "x4",
         "domain": [
          0.7555555555555555,
          1
         ],
         "showgrid": true
        },
        "yaxis5": {
         "anchor": "x5",
         "domain": [
          0.37777777777777777,
          0.6222222222222222
         ],
         "showgrid": true
        },
        "yaxis6": {
         "anchor": "x6",
         "domain": [
          0.37777777777777777,
          0.6222222222222222
         ],
         "showgrid": true
        },
        "yaxis7": {
         "anchor": "x7",
         "domain": [
          0.37777777777777777,
          0.6222222222222222
         ],
         "showgrid": true
        },
        "yaxis8": {
         "anchor": "x8",
         "domain": [
          0.37777777777777777,
          0.6222222222222222
         ],
         "showgrid": true
        },
        "yaxis9": {
         "anchor": "x9",
         "domain": [
          0,
          0.24444444444444446
         ],
         "showgrid": true
        }
       }
      }
     },
     "metadata": {},
     "output_type": "display_data"
    }
   ],
   "source": [
    "visualize_barchart2(model)"
   ]
  },
  {
   "cell_type": "markdown",
   "metadata": {},
   "source": [
    "Looking at the 12 largest topics, some patterns can be detected. Topic 0 is about Donald Trump and topic 7 is about the protest in Hong Kong. However, there are also topics which is not as clear and well defined as those two. Topic 10 top 3 words are 'food', 'li' and 'restaurant' which doesn't give a clear picture of an event at a given moment."
   ]
  },
  {
   "cell_type": "markdown",
   "id": "89d63da2",
   "metadata": {},
   "source": [
    "As mentioned in the beginning of this section, the purpose of the topic modelling is to generate three topics which can be used in Google Trend API in order to tell whether a topic is relevant or not for the time of relase."
   ]
  },
  {
   "cell_type": "code",
   "execution_count": 51,
   "id": "5c0cf45c",
   "metadata": {},
   "outputs": [],
   "source": [
    "# Making topic column\n",
    "df['Topic'] = topics\n",
    "\n",
    "def get_3_topic(data, model):\n",
    "    topic1 = []\n",
    "    topic2 = []\n",
    "    topic3 = []\n",
    "    \n",
    "    for i in data:\n",
    "        if i < 0:\n",
    "            topic1.append(np.nan)\n",
    "            topic2.append(np.nan)\n",
    "            topic3.append(np.nan)\n",
    "        else:\n",
    "            topic1.append(model.get_topic(i)[0][0])\n",
    "            topic2.append(model.get_topic(i)[1][0])\n",
    "            topic3.append(model.get_topic(i)[2][0])\n",
    "\n",
    "    return topic1, topic2, topic3"
   ]
  },
  {
   "cell_type": "code",
   "execution_count": 52,
   "id": "8cc53fad",
   "metadata": {},
   "outputs": [],
   "source": [
    "topic1, topic2, topic3 = get_3_topic(df['Topic'], model)\n",
    "\n",
    "df['Topic1'] = topic1\n",
    "df['Topic2'] = topic2\n",
    "df['Topic3'] = topic3"
   ]
  },
  {
   "cell_type": "code",
   "execution_count": 68,
   "metadata": {},
   "outputs": [
    {
     "name": "stdout",
     "output_type": "stream",
     "text": [
      "Original text: LONDON (Reuters) - The European Union is waiting to see if British lawmakers block Brexit before giving Britain concessions to strike a new withdrawal agreement, Prime Minister Boris Johnson said. \n",
      "Johnson, who has pledged that Britain will leave the EU on O… [+777 chars]\n",
      "\n",
      "Topic 1, 2 and 3: ['brexit', 'johnson', 'boris']\n"
     ]
    }
   ],
   "source": [
    "print(\"Original text:\",df['content'][4])\n",
    "print()\n",
    "print(\"Topic 1, 2 and 3:\",list(df[['Topic1', 'Topic2', 'Topic3']].loc[4]))"
   ]
  },
  {
   "cell_type": "markdown",
   "id": "2079d4d8",
   "metadata": {},
   "source": [
    "### Reflection"
   ]
  },
  {
   "cell_type": "markdown",
   "id": "6b9ef835",
   "metadata": {},
   "source": [
    "It could be seen that method has generated some good topics for 5637 of the articles. However, there are still 2483 articles which was not assigned topics, which is not ideal when we need to model and therefore we need to assign a value for the articles without assigned keywords. And we saw that forcing articles into topics didn't give big enough gain.\n",
    "\n",
    "Another problem with our approach of assigning 3 keywords based on the 3 top words of the assigned article, is that for some topics is the words c-TF-IDF score significant different. For instance, is topic 11 word \"school\" c-TF-IDF double as large as the other two words (students, parents). Compared to topic 1 words, which have almost the same c-TF-IDF score. This will our model not know and therefore will there be some uncertainty in our data.\n",
    "\n",
    "A third problem is with the automatisation of assigning the keywords for each article. If we look at the description for article \"North Korean footballer Han joins Italian giants Juventus\" and its assigned keywords, can we see that it is about football, which the keywords refers to. However, the football player does not join Real Madrid, which the third keyword refers to, but Juventus."
   ]
  },
  {
   "cell_type": "code",
   "execution_count": 71,
   "id": "899e890f",
   "metadata": {},
   "outputs": [
    {
     "name": "stdout",
     "output_type": "stream",
     "text": [
      "North Korean footballer Han joins Italian giants Juventus\n",
      "['club', 'league', 'madrid']\n"
     ]
    }
   ],
   "source": [
    "print(df['title'][2])\n",
    "print(list(df[['Topic1', 'Topic2', 'Topic3']].loc[2]))"
   ]
  },
  {
   "cell_type": "markdown",
   "metadata": {},
   "source": [
    "## Google Trend\n",
    "After the three keywords for each article was identied, the goal was to create a metric for how relevant this keyword was at the date the article was published. This is done under the assumption that people read articles that are relevant for the current time. If the keyword is not 'popular' at the time of release, it will not be well received by the end-users, hence the user engangement would decrease. <br>\n",
    "An example of this could be the keyword of Covid-19. If you had written an article about Covid-19 back in Febrauary 2020, chances are that most people would be very interested in that article. Whereas today, nobody wants to read anymore about Covid-19.  <br>\n",
    "The next section will provide each keyword with a metric of how relevant this keyword was at the publication date of the article. \n",
    "\n",
    "In order to determine a keyword relevance `pytrend` is used, which is an unofficial API for Google Trends [[8]](https://pypi.org/project/pytrends/). Google Trends is a user-friendly tool for mapping what poeple are seaching for, in real time. \n",
    "\n",
    "I order to decrease the computional time the three columns with keywords are combined and the `unique()` function is used to find every unique keyword. This limits the number of requests made to Google Trends API, seeing that many of the keywords are seen in more than one topic column. <br>\n",
    "\n",
    "`pytrend` is in many ways an easy and great tool, but is comes with many limitations. The timeframe of which a keyword is looked up can not surpass more than 5 years from today. Luckily the lastest date in this data set is from September 2019. The date format is also very restrictive, as it only works for each seventh day in the month. A decision was made to shorten the date format, which originaly was in `YYYY-MM-DD` to simply a `YYYY-MM` format. This reduced the number of dates to two dates (2019-09 and 2019-10). That is why the input of the function is only a single date string. <br>\n",
    "\n",
    "A final remark about the function was that the keyword = \"date\" would not be accepted as input in `pytrends`, which is why it simply was removed. "
   ]
  },
  {
   "cell_type": "code",
   "execution_count": 73,
   "metadata": {},
   "outputs": [],
   "source": [
    "## September 2019\n",
    "df_09 = df[df['date']=='2019-09']\n",
    "topic_09_list = []\n",
    "topic_09_list.append(df_09['Topic1'].unique())\n",
    "topic_09_list.append(df_09['Topic2'].unique())\n",
    "topic_09_list.append(df_09['Topic3'].unique())\n",
    "\n",
    "topic_09_list = list(itertools.chain.from_iterable(topic_09_list))\n",
    "topic_09_list = list(set(topic_09_list))\n",
    "# topic_09_list.remove('date')\n",
    "\n",
    "## October 2019\n",
    "df_10 = df[df['date']=='2019-10']\n",
    "topic_10_list = []\n",
    "topic_10_list.append(df_10['Topic2'].unique())\n",
    "topic_10_list.append(df_10['Topic3'].unique())\n",
    "topic_10_list.append(df_10['Topic1'].unique())\n",
    "\n",
    "topic_10_list = list(itertools.chain.from_iterable(topic_10_list))\n",
    "topic_10_list = list(set(topic_10_list))\n",
    "# topic_10_list.remove('date')"
   ]
  },
  {
   "cell_type": "markdown",
   "metadata": {},
   "source": [
    "When it comes to the actual value returned by `pytrends`, is there limitations yet again. According to Lazarina Stoy from October 2021 she says the following about the returned value:\n",
    "\n",
    "> Values are calculated on a scale from 0 to 100, where 100 is the location with the most popularity as a fraction of total searches in that location, a value of 50 indicates a location that is half as popular, and a value of 0 indicates a location where the term was less than 1% as popular as the peak [[9]](https://lazarinastoy.com/the-ultimate-guide-to-pytrends-google-trends-api-with-python/).\n",
    "\n",
    "The following function looks at a time period from five years ago to today. Depending on the month and year selected it returns a mean value for the keyword for that specific month. It is averaged because `pytrends` still returns the every seventh day of the month. It is assumed in this project that the interest of a keyword is constant throughout a month. "
   ]
  },
  {
   "cell_type": "code",
   "execution_count": 25,
   "metadata": {},
   "outputs": [],
   "source": [
    "def Topic_Value(date,topic):\n",
    "    # Initialize pytrends API request\n",
    "    pytrends.build_payload([topic], cat=0, timeframe='today 5-y') \n",
    "    data = pytrends.interest_over_time() \n",
    "    data = data.reset_index() \n",
    "    \n",
    "    # Group to only see year and month\n",
    "    data['YearMonth'] = pd.to_datetime(data['date']).dt.strftime('%Y-%m')\n",
    "    # Average for the enitre month\n",
    "    data = data.groupby('YearMonth').mean()\n",
    "    # Find value for topic \n",
    "    value = data[topic].filter(items = [date], axis=0)[0]\n",
    "\n",
    "    # Should be increased if not runned in Google Colab.\n",
    "    time.sleep(3)\n",
    "    return value"
   ]
  },
  {
   "cell_type": "markdown",
   "metadata": {},
   "source": [
    "The next code chunk then takes the list of keywords and use the `Topic_Value()` function to pull a value and saves it in a list with the coresponding values for that keyword. "
   ]
  },
  {
   "cell_type": "code",
   "execution_count": null,
   "metadata": {},
   "outputs": [],
   "source": [
    "# The following code chunk takes approx. 40 minutes.\n",
    "'''\n",
    "topic_value_oct = []\n",
    "topic_value_sep = []\n",
    "\n",
    "# Topics and values from September 2019 \n",
    "for i in topic_09_list:\n",
    "  topic_value_sep.append(Topic_Value('2019-09',i))\n",
    "  # print(i,';', topic_value_sep[-1])\n",
    "\n",
    "# Topics and values from October 2019 \n",
    "for i in topic_10_list:\n",
    "  topic_value_oct.append(Topic_Value('2019-10',i))\n",
    "  # print(i,';', topic_value_oct[-1])\n",
    "'''"
   ]
  },
  {
   "cell_type": "markdown",
   "metadata": {},
   "source": [
    "The next code chunk are made to combine the keyword and values for the different timestamps the dataframe."
   ]
  },
  {
   "cell_type": "code",
   "execution_count": null,
   "metadata": {},
   "outputs": [],
   "source": [
    "# Can only be runned after the chunk above is runned.\n",
    "'''\n",
    "df_topics_1 = pd.DataFrame({'date': '2019-09','Topic1': topic_09_list,'Topic 1 Score': topic_value_sep})\n",
    "df_topics_2 = pd.DataFrame({'date': '2019-09','Topic2': topic_09_list,'Topic 2 Score': topic_value_sep})\n",
    "df_topics_3 = pd.DataFrame({'date': '2019-09','Topic3': topic_09_list,'Topic 3 Score': topic_value_sep})\n",
    "\n",
    "df_topics_1_10 = pd.DataFrame({'date': '2019-10','Topic1': topic_10_list,'Topic 1 Score': topic_value_oct})\n",
    "df_topics_2_10 = pd.DataFrame({'date': '2019-10','Topic2': topic_10_list,'Topic 2 Score': topic_value_oct})\n",
    "df_topics_3_10 = pd.DataFrame({'date': '2019-10','Topic3': topic_10_list,'Topic 3 Score': topic_value_oct})\n",
    "\n",
    "df_topics_1 = df_topics_1.append(df_topics_1_10)\n",
    "df_topics_2 = df_topics_2.append(df_topics_2_10)\n",
    "df_topics_3 = df_topics_3.append(df_topics_3_10)\n",
    "\n",
    "df = pd.merge(df, df_topics_1,  how='left', left_on=['date','Topic1'], right_on = ['date','Topic1'])\n",
    "df = pd.merge(df, df_topics_2,  how='left', left_on=['date','Topic2'], right_on = ['date','Topic2'])\n",
    "df = pd.merge(df, df_topics_3,  how='left', left_on=['date','Topic3'], right_on = ['date','Topic3'])\n",
    "'''"
   ]
  },
  {
   "cell_type": "markdown",
   "metadata": {},
   "source": [
    "### Reflection\n",
    "A reflection about the Google Trends API is done by firstly interpreting the values given with the `Topic_Value()` function."
   ]
  },
  {
   "cell_type": "code",
   "execution_count": 26,
   "metadata": {},
   "outputs": [
    {
     "name": "stdout",
     "output_type": "stream",
     "text": [
      "Google Trends value for the keyword 'brexit' from September 2019: 38.0\n"
     ]
    }
   ],
   "source": [
    "print(\"Google Trends value for the keyword 'brexit' from September 2019:\",Topic_Value('2019-09','brexit'))"
   ]
  },
  {
   "cell_type": "markdown",
   "metadata": {},
   "source": [
    "As mentioned before Google Trends API works by giving a value between 0-100. A value of 37.8 for the keyword \"brexit\" is not particulary high. Looking at the graph below which visualizes the interest of the keyword \"brexit\" over the last five years, it seems that even though Brexit might not be the hottest keyword it was still very relevant at the time. "
   ]
  },
  {
   "cell_type": "code",
   "execution_count": 28,
   "metadata": {},
   "outputs": [
    {
     "data": {
      "application/vnd.plotly.v1+json": {
       "config": {
        "plotlyServerURL": "https://plot.ly"
       },
       "data": [
        {
         "hovertemplate": "date=%{x}<br>brexit=%{y}<extra></extra>",
         "legendgroup": "",
         "line": {
          "color": "#636efa",
          "dash": "solid"
         },
         "marker": {
          "symbol": "circle"
         },
         "mode": "lines",
         "name": "",
         "orientation": "v",
         "showlegend": false,
         "type": "scatter",
         "x": [
          "2017-05-14T00:00:00",
          "2017-05-21T00:00:00",
          "2017-05-28T00:00:00",
          "2017-06-04T00:00:00",
          "2017-06-11T00:00:00",
          "2017-06-18T00:00:00",
          "2017-06-25T00:00:00",
          "2017-07-02T00:00:00",
          "2017-07-09T00:00:00",
          "2017-07-16T00:00:00",
          "2017-07-23T00:00:00",
          "2017-07-30T00:00:00",
          "2017-08-06T00:00:00",
          "2017-08-13T00:00:00",
          "2017-08-20T00:00:00",
          "2017-08-27T00:00:00",
          "2017-09-03T00:00:00",
          "2017-09-10T00:00:00",
          "2017-09-17T00:00:00",
          "2017-09-24T00:00:00",
          "2017-10-01T00:00:00",
          "2017-10-08T00:00:00",
          "2017-10-15T00:00:00",
          "2017-10-22T00:00:00",
          "2017-10-29T00:00:00",
          "2017-11-05T00:00:00",
          "2017-11-12T00:00:00",
          "2017-11-19T00:00:00",
          "2017-11-26T00:00:00",
          "2017-12-03T00:00:00",
          "2017-12-10T00:00:00",
          "2017-12-17T00:00:00",
          "2017-12-24T00:00:00",
          "2017-12-31T00:00:00",
          "2018-01-07T00:00:00",
          "2018-01-14T00:00:00",
          "2018-01-21T00:00:00",
          "2018-01-28T00:00:00",
          "2018-02-04T00:00:00",
          "2018-02-11T00:00:00",
          "2018-02-18T00:00:00",
          "2018-02-25T00:00:00",
          "2018-03-04T00:00:00",
          "2018-03-11T00:00:00",
          "2018-03-18T00:00:00",
          "2018-03-25T00:00:00",
          "2018-04-01T00:00:00",
          "2018-04-08T00:00:00",
          "2018-04-15T00:00:00",
          "2018-04-22T00:00:00",
          "2018-04-29T00:00:00",
          "2018-05-06T00:00:00",
          "2018-05-13T00:00:00",
          "2018-05-20T00:00:00",
          "2018-05-27T00:00:00",
          "2018-06-03T00:00:00",
          "2018-06-10T00:00:00",
          "2018-06-17T00:00:00",
          "2018-06-24T00:00:00",
          "2018-07-01T00:00:00",
          "2018-07-08T00:00:00",
          "2018-07-15T00:00:00",
          "2018-07-22T00:00:00",
          "2018-07-29T00:00:00",
          "2018-08-05T00:00:00",
          "2018-08-12T00:00:00",
          "2018-08-19T00:00:00",
          "2018-08-26T00:00:00",
          "2018-09-02T00:00:00",
          "2018-09-09T00:00:00",
          "2018-09-16T00:00:00",
          "2018-09-23T00:00:00",
          "2018-09-30T00:00:00",
          "2018-10-07T00:00:00",
          "2018-10-14T00:00:00",
          "2018-10-21T00:00:00",
          "2018-10-28T00:00:00",
          "2018-11-04T00:00:00",
          "2018-11-11T00:00:00",
          "2018-11-18T00:00:00",
          "2018-11-25T00:00:00",
          "2018-12-02T00:00:00",
          "2018-12-09T00:00:00",
          "2018-12-16T00:00:00",
          "2018-12-23T00:00:00",
          "2018-12-30T00:00:00",
          "2019-01-06T00:00:00",
          "2019-01-13T00:00:00",
          "2019-01-20T00:00:00",
          "2019-01-27T00:00:00",
          "2019-02-03T00:00:00",
          "2019-02-10T00:00:00",
          "2019-02-17T00:00:00",
          "2019-02-24T00:00:00",
          "2019-03-03T00:00:00",
          "2019-03-10T00:00:00",
          "2019-03-17T00:00:00",
          "2019-03-24T00:00:00",
          "2019-03-31T00:00:00",
          "2019-04-07T00:00:00",
          "2019-04-14T00:00:00",
          "2019-04-21T00:00:00",
          "2019-04-28T00:00:00",
          "2019-05-05T00:00:00",
          "2019-05-12T00:00:00",
          "2019-05-19T00:00:00",
          "2019-05-26T00:00:00",
          "2019-06-02T00:00:00",
          "2019-06-09T00:00:00",
          "2019-06-16T00:00:00",
          "2019-06-23T00:00:00",
          "2019-06-30T00:00:00",
          "2019-07-07T00:00:00",
          "2019-07-14T00:00:00",
          "2019-07-21T00:00:00",
          "2019-07-28T00:00:00",
          "2019-08-04T00:00:00",
          "2019-08-11T00:00:00",
          "2019-08-18T00:00:00",
          "2019-08-25T00:00:00",
          "2019-09-01T00:00:00",
          "2019-09-08T00:00:00",
          "2019-09-15T00:00:00",
          "2019-09-22T00:00:00",
          "2019-09-29T00:00:00",
          "2019-10-06T00:00:00",
          "2019-10-13T00:00:00",
          "2019-10-20T00:00:00",
          "2019-10-27T00:00:00",
          "2019-11-03T00:00:00",
          "2019-11-10T00:00:00",
          "2019-11-17T00:00:00",
          "2019-11-24T00:00:00",
          "2019-12-01T00:00:00",
          "2019-12-08T00:00:00",
          "2019-12-15T00:00:00",
          "2019-12-22T00:00:00",
          "2019-12-29T00:00:00",
          "2020-01-05T00:00:00",
          "2020-01-12T00:00:00",
          "2020-01-19T00:00:00",
          "2020-01-26T00:00:00",
          "2020-02-02T00:00:00",
          "2020-02-09T00:00:00",
          "2020-02-16T00:00:00",
          "2020-02-23T00:00:00",
          "2020-03-01T00:00:00",
          "2020-03-08T00:00:00",
          "2020-03-15T00:00:00",
          "2020-03-22T00:00:00",
          "2020-03-29T00:00:00",
          "2020-04-05T00:00:00",
          "2020-04-12T00:00:00",
          "2020-04-19T00:00:00",
          "2020-04-26T00:00:00",
          "2020-05-03T00:00:00",
          "2020-05-10T00:00:00",
          "2020-05-17T00:00:00",
          "2020-05-24T00:00:00",
          "2020-05-31T00:00:00",
          "2020-06-07T00:00:00",
          "2020-06-14T00:00:00",
          "2020-06-21T00:00:00",
          "2020-06-28T00:00:00",
          "2020-07-05T00:00:00",
          "2020-07-12T00:00:00",
          "2020-07-19T00:00:00",
          "2020-07-26T00:00:00",
          "2020-08-02T00:00:00",
          "2020-08-09T00:00:00",
          "2020-08-16T00:00:00",
          "2020-08-23T00:00:00",
          "2020-08-30T00:00:00",
          "2020-09-06T00:00:00",
          "2020-09-13T00:00:00",
          "2020-09-20T00:00:00",
          "2020-09-27T00:00:00",
          "2020-10-04T00:00:00",
          "2020-10-11T00:00:00",
          "2020-10-18T00:00:00",
          "2020-10-25T00:00:00",
          "2020-11-01T00:00:00",
          "2020-11-08T00:00:00",
          "2020-11-15T00:00:00",
          "2020-11-22T00:00:00",
          "2020-11-29T00:00:00",
          "2020-12-06T00:00:00",
          "2020-12-13T00:00:00",
          "2020-12-20T00:00:00",
          "2020-12-27T00:00:00",
          "2021-01-03T00:00:00",
          "2021-01-10T00:00:00",
          "2021-01-17T00:00:00",
          "2021-01-24T00:00:00",
          "2021-01-31T00:00:00",
          "2021-02-07T00:00:00",
          "2021-02-14T00:00:00",
          "2021-02-21T00:00:00",
          "2021-02-28T00:00:00",
          "2021-03-07T00:00:00",
          "2021-03-14T00:00:00",
          "2021-03-21T00:00:00",
          "2021-03-28T00:00:00",
          "2021-04-04T00:00:00",
          "2021-04-11T00:00:00",
          "2021-04-18T00:00:00",
          "2021-04-25T00:00:00",
          "2021-05-02T00:00:00",
          "2021-05-09T00:00:00",
          "2021-05-16T00:00:00",
          "2021-05-23T00:00:00",
          "2021-05-30T00:00:00",
          "2021-06-06T00:00:00",
          "2021-06-13T00:00:00",
          "2021-06-20T00:00:00",
          "2021-06-27T00:00:00",
          "2021-07-04T00:00:00",
          "2021-07-11T00:00:00",
          "2021-07-18T00:00:00",
          "2021-07-25T00:00:00",
          "2021-08-01T00:00:00",
          "2021-08-08T00:00:00",
          "2021-08-15T00:00:00",
          "2021-08-22T00:00:00",
          "2021-08-29T00:00:00",
          "2021-09-05T00:00:00",
          "2021-09-12T00:00:00",
          "2021-09-19T00:00:00",
          "2021-09-26T00:00:00",
          "2021-10-03T00:00:00",
          "2021-10-10T00:00:00",
          "2021-10-17T00:00:00",
          "2021-10-24T00:00:00",
          "2021-10-31T00:00:00",
          "2021-11-07T00:00:00",
          "2021-11-14T00:00:00",
          "2021-11-21T00:00:00",
          "2021-11-28T00:00:00",
          "2021-12-05T00:00:00",
          "2021-12-12T00:00:00",
          "2021-12-19T00:00:00",
          "2021-12-26T00:00:00",
          "2022-01-02T00:00:00",
          "2022-01-09T00:00:00",
          "2022-01-16T00:00:00",
          "2022-01-23T00:00:00",
          "2022-01-30T00:00:00",
          "2022-02-06T00:00:00",
          "2022-02-13T00:00:00",
          "2022-02-20T00:00:00",
          "2022-02-27T00:00:00",
          "2022-03-06T00:00:00",
          "2022-03-13T00:00:00",
          "2022-03-20T00:00:00",
          "2022-03-27T00:00:00",
          "2022-04-03T00:00:00",
          "2022-04-10T00:00:00",
          "2022-04-17T00:00:00",
          "2022-04-24T00:00:00",
          "2022-05-01T00:00:00",
          "2022-05-08T00:00:00"
         ],
         "xaxis": "x",
         "y": [
          7,
          6,
          7,
          12,
          9,
          11,
          8,
          6,
          7,
          7,
          6,
          6,
          5,
          6,
          5,
          7,
          8,
          8,
          8,
          7,
          7,
          9,
          9,
          8,
          7,
          8,
          9,
          9,
          10,
          16,
          10,
          7,
          5,
          5,
          7,
          7,
          6,
          8,
          8,
          7,
          8,
          10,
          8,
          8,
          8,
          7,
          5,
          5,
          6,
          6,
          7,
          6,
          6,
          6,
          6,
          8,
          9,
          10,
          9,
          10,
          19,
          15,
          12,
          11,
          11,
          10,
          11,
          10,
          10,
          11,
          17,
          16,
          15,
          14,
          23,
          17,
          13,
          15,
          45,
          28,
          30,
          27,
          47,
          27,
          14,
          18,
          29,
          96,
          38,
          40,
          34,
          31,
          34,
          32,
          30,
          83,
          75,
          100,
          72,
          55,
          22,
          19,
          18,
          18,
          21,
          32,
          26,
          16,
          14,
          13,
          11,
          12,
          12,
          12,
          19,
          20,
          18,
          19,
          23,
          31,
          54,
          38,
          31,
          34,
          33,
          36,
          81,
          66,
          38,
          19,
          16,
          14,
          12,
          12,
          34,
          18,
          10,
          11,
          13,
          14,
          16,
          66,
          24,
          12,
          11,
          9,
          8,
          6,
          5,
          4,
          4,
          4,
          3,
          3,
          3,
          3,
          4,
          4,
          5,
          5,
          5,
          5,
          4,
          5,
          4,
          5,
          5,
          4,
          4,
          4,
          4,
          5,
          5,
          10,
          9,
          8,
          8,
          7,
          11,
          10,
          9,
          9,
          10,
          11,
          12,
          16,
          26,
          28,
          45,
          27,
          15,
          12,
          10,
          9,
          8,
          7,
          6,
          6,
          5,
          5,
          5,
          4,
          4,
          4,
          4,
          4,
          4,
          4,
          4,
          3,
          3,
          3,
          3,
          4,
          4,
          3,
          3,
          3,
          3,
          3,
          3,
          3,
          3,
          3,
          3,
          3,
          3,
          4,
          5,
          4,
          4,
          3,
          4,
          4,
          4,
          3,
          3,
          3,
          3,
          3,
          3,
          3,
          3,
          3,
          3,
          3,
          3,
          3,
          2,
          2,
          2,
          2,
          2,
          2,
          2,
          2,
          2,
          2,
          2,
          2,
          2
         ],
         "yaxis": "y"
        }
       ],
       "layout": {
        "legend": {
         "tracegroupgap": 0
        },
        "template": {
         "data": {
          "bar": [
           {
            "error_x": {
             "color": "#2a3f5f"
            },
            "error_y": {
             "color": "#2a3f5f"
            },
            "marker": {
             "line": {
              "color": "#E5ECF6",
              "width": 0.5
             },
             "pattern": {
              "fillmode": "overlay",
              "size": 10,
              "solidity": 0.2
             }
            },
            "type": "bar"
           }
          ],
          "barpolar": [
           {
            "marker": {
             "line": {
              "color": "#E5ECF6",
              "width": 0.5
             },
             "pattern": {
              "fillmode": "overlay",
              "size": 10,
              "solidity": 0.2
             }
            },
            "type": "barpolar"
           }
          ],
          "carpet": [
           {
            "aaxis": {
             "endlinecolor": "#2a3f5f",
             "gridcolor": "white",
             "linecolor": "white",
             "minorgridcolor": "white",
             "startlinecolor": "#2a3f5f"
            },
            "baxis": {
             "endlinecolor": "#2a3f5f",
             "gridcolor": "white",
             "linecolor": "white",
             "minorgridcolor": "white",
             "startlinecolor": "#2a3f5f"
            },
            "type": "carpet"
           }
          ],
          "choropleth": [
           {
            "colorbar": {
             "outlinewidth": 0,
             "ticks": ""
            },
            "type": "choropleth"
           }
          ],
          "contour": [
           {
            "colorbar": {
             "outlinewidth": 0,
             "ticks": ""
            },
            "colorscale": [
             [
              0,
              "#0d0887"
             ],
             [
              0.1111111111111111,
              "#46039f"
             ],
             [
              0.2222222222222222,
              "#7201a8"
             ],
             [
              0.3333333333333333,
              "#9c179e"
             ],
             [
              0.4444444444444444,
              "#bd3786"
             ],
             [
              0.5555555555555556,
              "#d8576b"
             ],
             [
              0.6666666666666666,
              "#ed7953"
             ],
             [
              0.7777777777777778,
              "#fb9f3a"
             ],
             [
              0.8888888888888888,
              "#fdca26"
             ],
             [
              1,
              "#f0f921"
             ]
            ],
            "type": "contour"
           }
          ],
          "contourcarpet": [
           {
            "colorbar": {
             "outlinewidth": 0,
             "ticks": ""
            },
            "type": "contourcarpet"
           }
          ],
          "heatmap": [
           {
            "colorbar": {
             "outlinewidth": 0,
             "ticks": ""
            },
            "colorscale": [
             [
              0,
              "#0d0887"
             ],
             [
              0.1111111111111111,
              "#46039f"
             ],
             [
              0.2222222222222222,
              "#7201a8"
             ],
             [
              0.3333333333333333,
              "#9c179e"
             ],
             [
              0.4444444444444444,
              "#bd3786"
             ],
             [
              0.5555555555555556,
              "#d8576b"
             ],
             [
              0.6666666666666666,
              "#ed7953"
             ],
             [
              0.7777777777777778,
              "#fb9f3a"
             ],
             [
              0.8888888888888888,
              "#fdca26"
             ],
             [
              1,
              "#f0f921"
             ]
            ],
            "type": "heatmap"
           }
          ],
          "heatmapgl": [
           {
            "colorbar": {
             "outlinewidth": 0,
             "ticks": ""
            },
            "colorscale": [
             [
              0,
              "#0d0887"
             ],
             [
              0.1111111111111111,
              "#46039f"
             ],
             [
              0.2222222222222222,
              "#7201a8"
             ],
             [
              0.3333333333333333,
              "#9c179e"
             ],
             [
              0.4444444444444444,
              "#bd3786"
             ],
             [
              0.5555555555555556,
              "#d8576b"
             ],
             [
              0.6666666666666666,
              "#ed7953"
             ],
             [
              0.7777777777777778,
              "#fb9f3a"
             ],
             [
              0.8888888888888888,
              "#fdca26"
             ],
             [
              1,
              "#f0f921"
             ]
            ],
            "type": "heatmapgl"
           }
          ],
          "histogram": [
           {
            "marker": {
             "pattern": {
              "fillmode": "overlay",
              "size": 10,
              "solidity": 0.2
             }
            },
            "type": "histogram"
           }
          ],
          "histogram2d": [
           {
            "colorbar": {
             "outlinewidth": 0,
             "ticks": ""
            },
            "colorscale": [
             [
              0,
              "#0d0887"
             ],
             [
              0.1111111111111111,
              "#46039f"
             ],
             [
              0.2222222222222222,
              "#7201a8"
             ],
             [
              0.3333333333333333,
              "#9c179e"
             ],
             [
              0.4444444444444444,
              "#bd3786"
             ],
             [
              0.5555555555555556,
              "#d8576b"
             ],
             [
              0.6666666666666666,
              "#ed7953"
             ],
             [
              0.7777777777777778,
              "#fb9f3a"
             ],
             [
              0.8888888888888888,
              "#fdca26"
             ],
             [
              1,
              "#f0f921"
             ]
            ],
            "type": "histogram2d"
           }
          ],
          "histogram2dcontour": [
           {
            "colorbar": {
             "outlinewidth": 0,
             "ticks": ""
            },
            "colorscale": [
             [
              0,
              "#0d0887"
             ],
             [
              0.1111111111111111,
              "#46039f"
             ],
             [
              0.2222222222222222,
              "#7201a8"
             ],
             [
              0.3333333333333333,
              "#9c179e"
             ],
             [
              0.4444444444444444,
              "#bd3786"
             ],
             [
              0.5555555555555556,
              "#d8576b"
             ],
             [
              0.6666666666666666,
              "#ed7953"
             ],
             [
              0.7777777777777778,
              "#fb9f3a"
             ],
             [
              0.8888888888888888,
              "#fdca26"
             ],
             [
              1,
              "#f0f921"
             ]
            ],
            "type": "histogram2dcontour"
           }
          ],
          "mesh3d": [
           {
            "colorbar": {
             "outlinewidth": 0,
             "ticks": ""
            },
            "type": "mesh3d"
           }
          ],
          "parcoords": [
           {
            "line": {
             "colorbar": {
              "outlinewidth": 0,
              "ticks": ""
             }
            },
            "type": "parcoords"
           }
          ],
          "pie": [
           {
            "automargin": true,
            "type": "pie"
           }
          ],
          "scatter": [
           {
            "marker": {
             "colorbar": {
              "outlinewidth": 0,
              "ticks": ""
             }
            },
            "type": "scatter"
           }
          ],
          "scatter3d": [
           {
            "line": {
             "colorbar": {
              "outlinewidth": 0,
              "ticks": ""
             }
            },
            "marker": {
             "colorbar": {
              "outlinewidth": 0,
              "ticks": ""
             }
            },
            "type": "scatter3d"
           }
          ],
          "scattercarpet": [
           {
            "marker": {
             "colorbar": {
              "outlinewidth": 0,
              "ticks": ""
             }
            },
            "type": "scattercarpet"
           }
          ],
          "scattergeo": [
           {
            "marker": {
             "colorbar": {
              "outlinewidth": 0,
              "ticks": ""
             }
            },
            "type": "scattergeo"
           }
          ],
          "scattergl": [
           {
            "marker": {
             "colorbar": {
              "outlinewidth": 0,
              "ticks": ""
             }
            },
            "type": "scattergl"
           }
          ],
          "scattermapbox": [
           {
            "marker": {
             "colorbar": {
              "outlinewidth": 0,
              "ticks": ""
             }
            },
            "type": "scattermapbox"
           }
          ],
          "scatterpolar": [
           {
            "marker": {
             "colorbar": {
              "outlinewidth": 0,
              "ticks": ""
             }
            },
            "type": "scatterpolar"
           }
          ],
          "scatterpolargl": [
           {
            "marker": {
             "colorbar": {
              "outlinewidth": 0,
              "ticks": ""
             }
            },
            "type": "scatterpolargl"
           }
          ],
          "scatterternary": [
           {
            "marker": {
             "colorbar": {
              "outlinewidth": 0,
              "ticks": ""
             }
            },
            "type": "scatterternary"
           }
          ],
          "surface": [
           {
            "colorbar": {
             "outlinewidth": 0,
             "ticks": ""
            },
            "colorscale": [
             [
              0,
              "#0d0887"
             ],
             [
              0.1111111111111111,
              "#46039f"
             ],
             [
              0.2222222222222222,
              "#7201a8"
             ],
             [
              0.3333333333333333,
              "#9c179e"
             ],
             [
              0.4444444444444444,
              "#bd3786"
             ],
             [
              0.5555555555555556,
              "#d8576b"
             ],
             [
              0.6666666666666666,
              "#ed7953"
             ],
             [
              0.7777777777777778,
              "#fb9f3a"
             ],
             [
              0.8888888888888888,
              "#fdca26"
             ],
             [
              1,
              "#f0f921"
             ]
            ],
            "type": "surface"
           }
          ],
          "table": [
           {
            "cells": {
             "fill": {
              "color": "#EBF0F8"
             },
             "line": {
              "color": "white"
             }
            },
            "header": {
             "fill": {
              "color": "#C8D4E3"
             },
             "line": {
              "color": "white"
             }
            },
            "type": "table"
           }
          ]
         },
         "layout": {
          "annotationdefaults": {
           "arrowcolor": "#2a3f5f",
           "arrowhead": 0,
           "arrowwidth": 1
          },
          "autotypenumbers": "strict",
          "coloraxis": {
           "colorbar": {
            "outlinewidth": 0,
            "ticks": ""
           }
          },
          "colorscale": {
           "diverging": [
            [
             0,
             "#8e0152"
            ],
            [
             0.1,
             "#c51b7d"
            ],
            [
             0.2,
             "#de77ae"
            ],
            [
             0.3,
             "#f1b6da"
            ],
            [
             0.4,
             "#fde0ef"
            ],
            [
             0.5,
             "#f7f7f7"
            ],
            [
             0.6,
             "#e6f5d0"
            ],
            [
             0.7,
             "#b8e186"
            ],
            [
             0.8,
             "#7fbc41"
            ],
            [
             0.9,
             "#4d9221"
            ],
            [
             1,
             "#276419"
            ]
           ],
           "sequential": [
            [
             0,
             "#0d0887"
            ],
            [
             0.1111111111111111,
             "#46039f"
            ],
            [
             0.2222222222222222,
             "#7201a8"
            ],
            [
             0.3333333333333333,
             "#9c179e"
            ],
            [
             0.4444444444444444,
             "#bd3786"
            ],
            [
             0.5555555555555556,
             "#d8576b"
            ],
            [
             0.6666666666666666,
             "#ed7953"
            ],
            [
             0.7777777777777778,
             "#fb9f3a"
            ],
            [
             0.8888888888888888,
             "#fdca26"
            ],
            [
             1,
             "#f0f921"
            ]
           ],
           "sequentialminus": [
            [
             0,
             "#0d0887"
            ],
            [
             0.1111111111111111,
             "#46039f"
            ],
            [
             0.2222222222222222,
             "#7201a8"
            ],
            [
             0.3333333333333333,
             "#9c179e"
            ],
            [
             0.4444444444444444,
             "#bd3786"
            ],
            [
             0.5555555555555556,
             "#d8576b"
            ],
            [
             0.6666666666666666,
             "#ed7953"
            ],
            [
             0.7777777777777778,
             "#fb9f3a"
            ],
            [
             0.8888888888888888,
             "#fdca26"
            ],
            [
             1,
             "#f0f921"
            ]
           ]
          },
          "colorway": [
           "#636efa",
           "#EF553B",
           "#00cc96",
           "#ab63fa",
           "#FFA15A",
           "#19d3f3",
           "#FF6692",
           "#B6E880",
           "#FF97FF",
           "#FECB52"
          ],
          "font": {
           "color": "#2a3f5f"
          },
          "geo": {
           "bgcolor": "white",
           "lakecolor": "white",
           "landcolor": "#E5ECF6",
           "showlakes": true,
           "showland": true,
           "subunitcolor": "white"
          },
          "hoverlabel": {
           "align": "left"
          },
          "hovermode": "closest",
          "mapbox": {
           "style": "light"
          },
          "paper_bgcolor": "white",
          "plot_bgcolor": "#E5ECF6",
          "polar": {
           "angularaxis": {
            "gridcolor": "white",
            "linecolor": "white",
            "ticks": ""
           },
           "bgcolor": "#E5ECF6",
           "radialaxis": {
            "gridcolor": "white",
            "linecolor": "white",
            "ticks": ""
           }
          },
          "scene": {
           "xaxis": {
            "backgroundcolor": "#E5ECF6",
            "gridcolor": "white",
            "gridwidth": 2,
            "linecolor": "white",
            "showbackground": true,
            "ticks": "",
            "zerolinecolor": "white"
           },
           "yaxis": {
            "backgroundcolor": "#E5ECF6",
            "gridcolor": "white",
            "gridwidth": 2,
            "linecolor": "white",
            "showbackground": true,
            "ticks": "",
            "zerolinecolor": "white"
           },
           "zaxis": {
            "backgroundcolor": "#E5ECF6",
            "gridcolor": "white",
            "gridwidth": 2,
            "linecolor": "white",
            "showbackground": true,
            "ticks": "",
            "zerolinecolor": "white"
           }
          },
          "shapedefaults": {
           "line": {
            "color": "#2a3f5f"
           }
          },
          "ternary": {
           "aaxis": {
            "gridcolor": "white",
            "linecolor": "white",
            "ticks": ""
           },
           "baxis": {
            "gridcolor": "white",
            "linecolor": "white",
            "ticks": ""
           },
           "bgcolor": "#E5ECF6",
           "caxis": {
            "gridcolor": "white",
            "linecolor": "white",
            "ticks": ""
           }
          },
          "title": {
           "x": 0.05
          },
          "xaxis": {
           "automargin": true,
           "gridcolor": "white",
           "linecolor": "white",
           "ticks": "",
           "title": {
            "standoff": 15
           },
           "zerolinecolor": "white",
           "zerolinewidth": 2
          },
          "yaxis": {
           "automargin": true,
           "gridcolor": "white",
           "linecolor": "white",
           "ticks": "",
           "title": {
            "standoff": 15
           },
           "zerolinecolor": "white",
           "zerolinewidth": 2
          }
         }
        },
        "title": {
         "text": "Brexit Web Search Interest Over Time"
        },
        "xaxis": {
         "anchor": "y",
         "domain": [
          0,
          1
         ],
         "title": {
          "text": "date"
         }
        },
        "yaxis": {
         "anchor": "x",
         "domain": [
          0,
          1
         ],
         "title": {
          "text": "brexit"
         }
        }
       }
      }
     },
     "metadata": {},
     "output_type": "display_data"
    }
   ],
   "source": [
    "topic = ['brexit']\n",
    "pytrends.build_payload(topic, cat=0, timeframe='today 5-y') \n",
    "data = pytrends.interest_over_time() \n",
    "data = data.reset_index() \n",
    "fig = px.line(data, x=\"date\", y=topic[0], title='Brexit Web Search Interest Over Time')\n",
    "fig.show() "
   ]
  },
  {
   "cell_type": "code",
   "execution_count": 29,
   "metadata": {},
   "outputs": [
    {
     "name": "stdout",
     "output_type": "stream",
     "text": [
      "Google Trend value for the keyword 'flight' from September 2019: 86.4\n"
     ]
    }
   ],
   "source": [
    "print(\"Google Trend value for the keyword 'flight' from September 2019:\",Topic_Value('2019-09','flight'))"
   ]
  },
  {
   "cell_type": "markdown",
   "metadata": {},
   "source": [
    "Looking at the value for the keyword 'flight' it is much higher than 'brexit'. Again a visualization of the interest in the last five years are displayed below. However, the reason for the high value in the keyword is because this keyword is always a highly searched keyword. The big descrease in searches in march 2020 could to due to Covid-19, that made people unable to travel on vacation or business trips. As Covid-19 is slowly disappearing from our lives, the demand in flights increses again."
   ]
  },
  {
   "cell_type": "code",
   "execution_count": 30,
   "metadata": {},
   "outputs": [
    {
     "data": {
      "application/vnd.plotly.v1+json": {
       "config": {
        "plotlyServerURL": "https://plot.ly"
       },
       "data": [
        {
         "hovertemplate": "date=%{x}<br>flight=%{y}<extra></extra>",
         "legendgroup": "",
         "line": {
          "color": "#636efa",
          "dash": "solid"
         },
         "marker": {
          "symbol": "circle"
         },
         "mode": "lines",
         "name": "",
         "orientation": "v",
         "showlegend": false,
         "type": "scatter",
         "x": [
          "2017-05-14T00:00:00",
          "2017-05-21T00:00:00",
          "2017-05-28T00:00:00",
          "2017-06-04T00:00:00",
          "2017-06-11T00:00:00",
          "2017-06-18T00:00:00",
          "2017-06-25T00:00:00",
          "2017-07-02T00:00:00",
          "2017-07-09T00:00:00",
          "2017-07-16T00:00:00",
          "2017-07-23T00:00:00",
          "2017-07-30T00:00:00",
          "2017-08-06T00:00:00",
          "2017-08-13T00:00:00",
          "2017-08-20T00:00:00",
          "2017-08-27T00:00:00",
          "2017-09-03T00:00:00",
          "2017-09-10T00:00:00",
          "2017-09-17T00:00:00",
          "2017-09-24T00:00:00",
          "2017-10-01T00:00:00",
          "2017-10-08T00:00:00",
          "2017-10-15T00:00:00",
          "2017-10-22T00:00:00",
          "2017-10-29T00:00:00",
          "2017-11-05T00:00:00",
          "2017-11-12T00:00:00",
          "2017-11-19T00:00:00",
          "2017-11-26T00:00:00",
          "2017-12-03T00:00:00",
          "2017-12-10T00:00:00",
          "2017-12-17T00:00:00",
          "2017-12-24T00:00:00",
          "2017-12-31T00:00:00",
          "2018-01-07T00:00:00",
          "2018-01-14T00:00:00",
          "2018-01-21T00:00:00",
          "2018-01-28T00:00:00",
          "2018-02-04T00:00:00",
          "2018-02-11T00:00:00",
          "2018-02-18T00:00:00",
          "2018-02-25T00:00:00",
          "2018-03-04T00:00:00",
          "2018-03-11T00:00:00",
          "2018-03-18T00:00:00",
          "2018-03-25T00:00:00",
          "2018-04-01T00:00:00",
          "2018-04-08T00:00:00",
          "2018-04-15T00:00:00",
          "2018-04-22T00:00:00",
          "2018-04-29T00:00:00",
          "2018-05-06T00:00:00",
          "2018-05-13T00:00:00",
          "2018-05-20T00:00:00",
          "2018-05-27T00:00:00",
          "2018-06-03T00:00:00",
          "2018-06-10T00:00:00",
          "2018-06-17T00:00:00",
          "2018-06-24T00:00:00",
          "2018-07-01T00:00:00",
          "2018-07-08T00:00:00",
          "2018-07-15T00:00:00",
          "2018-07-22T00:00:00",
          "2018-07-29T00:00:00",
          "2018-08-05T00:00:00",
          "2018-08-12T00:00:00",
          "2018-08-19T00:00:00",
          "2018-08-26T00:00:00",
          "2018-09-02T00:00:00",
          "2018-09-09T00:00:00",
          "2018-09-16T00:00:00",
          "2018-09-23T00:00:00",
          "2018-09-30T00:00:00",
          "2018-10-07T00:00:00",
          "2018-10-14T00:00:00",
          "2018-10-21T00:00:00",
          "2018-10-28T00:00:00",
          "2018-11-04T00:00:00",
          "2018-11-11T00:00:00",
          "2018-11-18T00:00:00",
          "2018-11-25T00:00:00",
          "2018-12-02T00:00:00",
          "2018-12-09T00:00:00",
          "2018-12-16T00:00:00",
          "2018-12-23T00:00:00",
          "2018-12-30T00:00:00",
          "2019-01-06T00:00:00",
          "2019-01-13T00:00:00",
          "2019-01-20T00:00:00",
          "2019-01-27T00:00:00",
          "2019-02-03T00:00:00",
          "2019-02-10T00:00:00",
          "2019-02-17T00:00:00",
          "2019-02-24T00:00:00",
          "2019-03-03T00:00:00",
          "2019-03-10T00:00:00",
          "2019-03-17T00:00:00",
          "2019-03-24T00:00:00",
          "2019-03-31T00:00:00",
          "2019-04-07T00:00:00",
          "2019-04-14T00:00:00",
          "2019-04-21T00:00:00",
          "2019-04-28T00:00:00",
          "2019-05-05T00:00:00",
          "2019-05-12T00:00:00",
          "2019-05-19T00:00:00",
          "2019-05-26T00:00:00",
          "2019-06-02T00:00:00",
          "2019-06-09T00:00:00",
          "2019-06-16T00:00:00",
          "2019-06-23T00:00:00",
          "2019-06-30T00:00:00",
          "2019-07-07T00:00:00",
          "2019-07-14T00:00:00",
          "2019-07-21T00:00:00",
          "2019-07-28T00:00:00",
          "2019-08-04T00:00:00",
          "2019-08-11T00:00:00",
          "2019-08-18T00:00:00",
          "2019-08-25T00:00:00",
          "2019-09-01T00:00:00",
          "2019-09-08T00:00:00",
          "2019-09-15T00:00:00",
          "2019-09-22T00:00:00",
          "2019-09-29T00:00:00",
          "2019-10-06T00:00:00",
          "2019-10-13T00:00:00",
          "2019-10-20T00:00:00",
          "2019-10-27T00:00:00",
          "2019-11-03T00:00:00",
          "2019-11-10T00:00:00",
          "2019-11-17T00:00:00",
          "2019-11-24T00:00:00",
          "2019-12-01T00:00:00",
          "2019-12-08T00:00:00",
          "2019-12-15T00:00:00",
          "2019-12-22T00:00:00",
          "2019-12-29T00:00:00",
          "2020-01-05T00:00:00",
          "2020-01-12T00:00:00",
          "2020-01-19T00:00:00",
          "2020-01-26T00:00:00",
          "2020-02-02T00:00:00",
          "2020-02-09T00:00:00",
          "2020-02-16T00:00:00",
          "2020-02-23T00:00:00",
          "2020-03-01T00:00:00",
          "2020-03-08T00:00:00",
          "2020-03-15T00:00:00",
          "2020-03-22T00:00:00",
          "2020-03-29T00:00:00",
          "2020-04-05T00:00:00",
          "2020-04-12T00:00:00",
          "2020-04-19T00:00:00",
          "2020-04-26T00:00:00",
          "2020-05-03T00:00:00",
          "2020-05-10T00:00:00",
          "2020-05-17T00:00:00",
          "2020-05-24T00:00:00",
          "2020-05-31T00:00:00",
          "2020-06-07T00:00:00",
          "2020-06-14T00:00:00",
          "2020-06-21T00:00:00",
          "2020-06-28T00:00:00",
          "2020-07-05T00:00:00",
          "2020-07-12T00:00:00",
          "2020-07-19T00:00:00",
          "2020-07-26T00:00:00",
          "2020-08-02T00:00:00",
          "2020-08-09T00:00:00",
          "2020-08-16T00:00:00",
          "2020-08-23T00:00:00",
          "2020-08-30T00:00:00",
          "2020-09-06T00:00:00",
          "2020-09-13T00:00:00",
          "2020-09-20T00:00:00",
          "2020-09-27T00:00:00",
          "2020-10-04T00:00:00",
          "2020-10-11T00:00:00",
          "2020-10-18T00:00:00",
          "2020-10-25T00:00:00",
          "2020-11-01T00:00:00",
          "2020-11-08T00:00:00",
          "2020-11-15T00:00:00",
          "2020-11-22T00:00:00",
          "2020-11-29T00:00:00",
          "2020-12-06T00:00:00",
          "2020-12-13T00:00:00",
          "2020-12-20T00:00:00",
          "2020-12-27T00:00:00",
          "2021-01-03T00:00:00",
          "2021-01-10T00:00:00",
          "2021-01-17T00:00:00",
          "2021-01-24T00:00:00",
          "2021-01-31T00:00:00",
          "2021-02-07T00:00:00",
          "2021-02-14T00:00:00",
          "2021-02-21T00:00:00",
          "2021-02-28T00:00:00",
          "2021-03-07T00:00:00",
          "2021-03-14T00:00:00",
          "2021-03-21T00:00:00",
          "2021-03-28T00:00:00",
          "2021-04-04T00:00:00",
          "2021-04-11T00:00:00",
          "2021-04-18T00:00:00",
          "2021-04-25T00:00:00",
          "2021-05-02T00:00:00",
          "2021-05-09T00:00:00",
          "2021-05-16T00:00:00",
          "2021-05-23T00:00:00",
          "2021-05-30T00:00:00",
          "2021-06-06T00:00:00",
          "2021-06-13T00:00:00",
          "2021-06-20T00:00:00",
          "2021-06-27T00:00:00",
          "2021-07-04T00:00:00",
          "2021-07-11T00:00:00",
          "2021-07-18T00:00:00",
          "2021-07-25T00:00:00",
          "2021-08-01T00:00:00",
          "2021-08-08T00:00:00",
          "2021-08-15T00:00:00",
          "2021-08-22T00:00:00",
          "2021-08-29T00:00:00",
          "2021-09-05T00:00:00",
          "2021-09-12T00:00:00",
          "2021-09-19T00:00:00",
          "2021-09-26T00:00:00",
          "2021-10-03T00:00:00",
          "2021-10-10T00:00:00",
          "2021-10-17T00:00:00",
          "2021-10-24T00:00:00",
          "2021-10-31T00:00:00",
          "2021-11-07T00:00:00",
          "2021-11-14T00:00:00",
          "2021-11-21T00:00:00",
          "2021-11-28T00:00:00",
          "2021-12-05T00:00:00",
          "2021-12-12T00:00:00",
          "2021-12-19T00:00:00",
          "2021-12-26T00:00:00",
          "2022-01-02T00:00:00",
          "2022-01-09T00:00:00",
          "2022-01-16T00:00:00",
          "2022-01-23T00:00:00",
          "2022-01-30T00:00:00",
          "2022-02-06T00:00:00",
          "2022-02-13T00:00:00",
          "2022-02-20T00:00:00",
          "2022-02-27T00:00:00",
          "2022-03-06T00:00:00",
          "2022-03-13T00:00:00",
          "2022-03-20T00:00:00",
          "2022-03-27T00:00:00",
          "2022-04-03T00:00:00",
          "2022-04-10T00:00:00",
          "2022-04-17T00:00:00",
          "2022-04-24T00:00:00",
          "2022-05-01T00:00:00",
          "2022-05-08T00:00:00"
         ],
         "xaxis": "x",
         "y": [
          79,
          78,
          77,
          75,
          82,
          85,
          83,
          81,
          83,
          85,
          84,
          87,
          82,
          85,
          78,
          77,
          83,
          81,
          76,
          74,
          75,
          76,
          78,
          76,
          69,
          72,
          74,
          71,
          75,
          73,
          78,
          85,
          87,
          94,
          89,
          81,
          76,
          76,
          79,
          77,
          78,
          90,
          81,
          82,
          87,
          84,
          83,
          80,
          87,
          78,
          78,
          80,
          80,
          81,
          85,
          84,
          87,
          85,
          88,
          84,
          90,
          95,
          92,
          92,
          93,
          91,
          86,
          80,
          82,
          85,
          81,
          82,
          78,
          84,
          80,
          79,
          82,
          76,
          84,
          80,
          82,
          77,
          80,
          90,
          88,
          91,
          88,
          88,
          87,
          87,
          83,
          88,
          85,
          89,
          88,
          94,
          83,
          83,
          80,
          83,
          84,
          81,
          83,
          84,
          81,
          83,
          87,
          88,
          93,
          93,
          93,
          93,
          91,
          92,
          92,
          95,
          95,
          91,
          93,
          86,
          88,
          87,
          88,
          87,
          82,
          81,
          83,
          82,
          79,
          81,
          80,
          82,
          81,
          88,
          81,
          91,
          93,
          93,
          100,
          96,
          85,
          81,
          84,
          88,
          83,
          85,
          78,
          94,
          88,
          50,
          37,
          36,
          35,
          33,
          34,
          35,
          37,
          41,
          44,
          42,
          43,
          41,
          43,
          44,
          43,
          45,
          44,
          45,
          50,
          45,
          62,
          52,
          48,
          48,
          45,
          44,
          43,
          42,
          41,
          40,
          39,
          37,
          41,
          42,
          45,
          48,
          47,
          49,
          55,
          54,
          54,
          48,
          45,
          43,
          45,
          44,
          49,
          46,
          47,
          46,
          48,
          48,
          51,
          49,
          46,
          47,
          46,
          46,
          44,
          48,
          50,
          52,
          52,
          54,
          56,
          61,
          62,
          67,
          71,
          66,
          66,
          63,
          64,
          61,
          58,
          60,
          63,
          61,
          58,
          58,
          65,
          61,
          61,
          61,
          64,
          64,
          65,
          66,
          63,
          67,
          72,
          78,
          77,
          61,
          61,
          60,
          66,
          65,
          69,
          79,
          74,
          78,
          76,
          80,
          81,
          82,
          83,
          80,
          81,
          84,
          86
         ],
         "yaxis": "y"
        }
       ],
       "layout": {
        "legend": {
         "tracegroupgap": 0
        },
        "template": {
         "data": {
          "bar": [
           {
            "error_x": {
             "color": "#2a3f5f"
            },
            "error_y": {
             "color": "#2a3f5f"
            },
            "marker": {
             "line": {
              "color": "#E5ECF6",
              "width": 0.5
             },
             "pattern": {
              "fillmode": "overlay",
              "size": 10,
              "solidity": 0.2
             }
            },
            "type": "bar"
           }
          ],
          "barpolar": [
           {
            "marker": {
             "line": {
              "color": "#E5ECF6",
              "width": 0.5
             },
             "pattern": {
              "fillmode": "overlay",
              "size": 10,
              "solidity": 0.2
             }
            },
            "type": "barpolar"
           }
          ],
          "carpet": [
           {
            "aaxis": {
             "endlinecolor": "#2a3f5f",
             "gridcolor": "white",
             "linecolor": "white",
             "minorgridcolor": "white",
             "startlinecolor": "#2a3f5f"
            },
            "baxis": {
             "endlinecolor": "#2a3f5f",
             "gridcolor": "white",
             "linecolor": "white",
             "minorgridcolor": "white",
             "startlinecolor": "#2a3f5f"
            },
            "type": "carpet"
           }
          ],
          "choropleth": [
           {
            "colorbar": {
             "outlinewidth": 0,
             "ticks": ""
            },
            "type": "choropleth"
           }
          ],
          "contour": [
           {
            "colorbar": {
             "outlinewidth": 0,
             "ticks": ""
            },
            "colorscale": [
             [
              0,
              "#0d0887"
             ],
             [
              0.1111111111111111,
              "#46039f"
             ],
             [
              0.2222222222222222,
              "#7201a8"
             ],
             [
              0.3333333333333333,
              "#9c179e"
             ],
             [
              0.4444444444444444,
              "#bd3786"
             ],
             [
              0.5555555555555556,
              "#d8576b"
             ],
             [
              0.6666666666666666,
              "#ed7953"
             ],
             [
              0.7777777777777778,
              "#fb9f3a"
             ],
             [
              0.8888888888888888,
              "#fdca26"
             ],
             [
              1,
              "#f0f921"
             ]
            ],
            "type": "contour"
           }
          ],
          "contourcarpet": [
           {
            "colorbar": {
             "outlinewidth": 0,
             "ticks": ""
            },
            "type": "contourcarpet"
           }
          ],
          "heatmap": [
           {
            "colorbar": {
             "outlinewidth": 0,
             "ticks": ""
            },
            "colorscale": [
             [
              0,
              "#0d0887"
             ],
             [
              0.1111111111111111,
              "#46039f"
             ],
             [
              0.2222222222222222,
              "#7201a8"
             ],
             [
              0.3333333333333333,
              "#9c179e"
             ],
             [
              0.4444444444444444,
              "#bd3786"
             ],
             [
              0.5555555555555556,
              "#d8576b"
             ],
             [
              0.6666666666666666,
              "#ed7953"
             ],
             [
              0.7777777777777778,
              "#fb9f3a"
             ],
             [
              0.8888888888888888,
              "#fdca26"
             ],
             [
              1,
              "#f0f921"
             ]
            ],
            "type": "heatmap"
           }
          ],
          "heatmapgl": [
           {
            "colorbar": {
             "outlinewidth": 0,
             "ticks": ""
            },
            "colorscale": [
             [
              0,
              "#0d0887"
             ],
             [
              0.1111111111111111,
              "#46039f"
             ],
             [
              0.2222222222222222,
              "#7201a8"
             ],
             [
              0.3333333333333333,
              "#9c179e"
             ],
             [
              0.4444444444444444,
              "#bd3786"
             ],
             [
              0.5555555555555556,
              "#d8576b"
             ],
             [
              0.6666666666666666,
              "#ed7953"
             ],
             [
              0.7777777777777778,
              "#fb9f3a"
             ],
             [
              0.8888888888888888,
              "#fdca26"
             ],
             [
              1,
              "#f0f921"
             ]
            ],
            "type": "heatmapgl"
           }
          ],
          "histogram": [
           {
            "marker": {
             "pattern": {
              "fillmode": "overlay",
              "size": 10,
              "solidity": 0.2
             }
            },
            "type": "histogram"
           }
          ],
          "histogram2d": [
           {
            "colorbar": {
             "outlinewidth": 0,
             "ticks": ""
            },
            "colorscale": [
             [
              0,
              "#0d0887"
             ],
             [
              0.1111111111111111,
              "#46039f"
             ],
             [
              0.2222222222222222,
              "#7201a8"
             ],
             [
              0.3333333333333333,
              "#9c179e"
             ],
             [
              0.4444444444444444,
              "#bd3786"
             ],
             [
              0.5555555555555556,
              "#d8576b"
             ],
             [
              0.6666666666666666,
              "#ed7953"
             ],
             [
              0.7777777777777778,
              "#fb9f3a"
             ],
             [
              0.8888888888888888,
              "#fdca26"
             ],
             [
              1,
              "#f0f921"
             ]
            ],
            "type": "histogram2d"
           }
          ],
          "histogram2dcontour": [
           {
            "colorbar": {
             "outlinewidth": 0,
             "ticks": ""
            },
            "colorscale": [
             [
              0,
              "#0d0887"
             ],
             [
              0.1111111111111111,
              "#46039f"
             ],
             [
              0.2222222222222222,
              "#7201a8"
             ],
             [
              0.3333333333333333,
              "#9c179e"
             ],
             [
              0.4444444444444444,
              "#bd3786"
             ],
             [
              0.5555555555555556,
              "#d8576b"
             ],
             [
              0.6666666666666666,
              "#ed7953"
             ],
             [
              0.7777777777777778,
              "#fb9f3a"
             ],
             [
              0.8888888888888888,
              "#fdca26"
             ],
             [
              1,
              "#f0f921"
             ]
            ],
            "type": "histogram2dcontour"
           }
          ],
          "mesh3d": [
           {
            "colorbar": {
             "outlinewidth": 0,
             "ticks": ""
            },
            "type": "mesh3d"
           }
          ],
          "parcoords": [
           {
            "line": {
             "colorbar": {
              "outlinewidth": 0,
              "ticks": ""
             }
            },
            "type": "parcoords"
           }
          ],
          "pie": [
           {
            "automargin": true,
            "type": "pie"
           }
          ],
          "scatter": [
           {
            "marker": {
             "colorbar": {
              "outlinewidth": 0,
              "ticks": ""
             }
            },
            "type": "scatter"
           }
          ],
          "scatter3d": [
           {
            "line": {
             "colorbar": {
              "outlinewidth": 0,
              "ticks": ""
             }
            },
            "marker": {
             "colorbar": {
              "outlinewidth": 0,
              "ticks": ""
             }
            },
            "type": "scatter3d"
           }
          ],
          "scattercarpet": [
           {
            "marker": {
             "colorbar": {
              "outlinewidth": 0,
              "ticks": ""
             }
            },
            "type": "scattercarpet"
           }
          ],
          "scattergeo": [
           {
            "marker": {
             "colorbar": {
              "outlinewidth": 0,
              "ticks": ""
             }
            },
            "type": "scattergeo"
           }
          ],
          "scattergl": [
           {
            "marker": {
             "colorbar": {
              "outlinewidth": 0,
              "ticks": ""
             }
            },
            "type": "scattergl"
           }
          ],
          "scattermapbox": [
           {
            "marker": {
             "colorbar": {
              "outlinewidth": 0,
              "ticks": ""
             }
            },
            "type": "scattermapbox"
           }
          ],
          "scatterpolar": [
           {
            "marker": {
             "colorbar": {
              "outlinewidth": 0,
              "ticks": ""
             }
            },
            "type": "scatterpolar"
           }
          ],
          "scatterpolargl": [
           {
            "marker": {
             "colorbar": {
              "outlinewidth": 0,
              "ticks": ""
             }
            },
            "type": "scatterpolargl"
           }
          ],
          "scatterternary": [
           {
            "marker": {
             "colorbar": {
              "outlinewidth": 0,
              "ticks": ""
             }
            },
            "type": "scatterternary"
           }
          ],
          "surface": [
           {
            "colorbar": {
             "outlinewidth": 0,
             "ticks": ""
            },
            "colorscale": [
             [
              0,
              "#0d0887"
             ],
             [
              0.1111111111111111,
              "#46039f"
             ],
             [
              0.2222222222222222,
              "#7201a8"
             ],
             [
              0.3333333333333333,
              "#9c179e"
             ],
             [
              0.4444444444444444,
              "#bd3786"
             ],
             [
              0.5555555555555556,
              "#d8576b"
             ],
             [
              0.6666666666666666,
              "#ed7953"
             ],
             [
              0.7777777777777778,
              "#fb9f3a"
             ],
             [
              0.8888888888888888,
              "#fdca26"
             ],
             [
              1,
              "#f0f921"
             ]
            ],
            "type": "surface"
           }
          ],
          "table": [
           {
            "cells": {
             "fill": {
              "color": "#EBF0F8"
             },
             "line": {
              "color": "white"
             }
            },
            "header": {
             "fill": {
              "color": "#C8D4E3"
             },
             "line": {
              "color": "white"
             }
            },
            "type": "table"
           }
          ]
         },
         "layout": {
          "annotationdefaults": {
           "arrowcolor": "#2a3f5f",
           "arrowhead": 0,
           "arrowwidth": 1
          },
          "autotypenumbers": "strict",
          "coloraxis": {
           "colorbar": {
            "outlinewidth": 0,
            "ticks": ""
           }
          },
          "colorscale": {
           "diverging": [
            [
             0,
             "#8e0152"
            ],
            [
             0.1,
             "#c51b7d"
            ],
            [
             0.2,
             "#de77ae"
            ],
            [
             0.3,
             "#f1b6da"
            ],
            [
             0.4,
             "#fde0ef"
            ],
            [
             0.5,
             "#f7f7f7"
            ],
            [
             0.6,
             "#e6f5d0"
            ],
            [
             0.7,
             "#b8e186"
            ],
            [
             0.8,
             "#7fbc41"
            ],
            [
             0.9,
             "#4d9221"
            ],
            [
             1,
             "#276419"
            ]
           ],
           "sequential": [
            [
             0,
             "#0d0887"
            ],
            [
             0.1111111111111111,
             "#46039f"
            ],
            [
             0.2222222222222222,
             "#7201a8"
            ],
            [
             0.3333333333333333,
             "#9c179e"
            ],
            [
             0.4444444444444444,
             "#bd3786"
            ],
            [
             0.5555555555555556,
             "#d8576b"
            ],
            [
             0.6666666666666666,
             "#ed7953"
            ],
            [
             0.7777777777777778,
             "#fb9f3a"
            ],
            [
             0.8888888888888888,
             "#fdca26"
            ],
            [
             1,
             "#f0f921"
            ]
           ],
           "sequentialminus": [
            [
             0,
             "#0d0887"
            ],
            [
             0.1111111111111111,
             "#46039f"
            ],
            [
             0.2222222222222222,
             "#7201a8"
            ],
            [
             0.3333333333333333,
             "#9c179e"
            ],
            [
             0.4444444444444444,
             "#bd3786"
            ],
            [
             0.5555555555555556,
             "#d8576b"
            ],
            [
             0.6666666666666666,
             "#ed7953"
            ],
            [
             0.7777777777777778,
             "#fb9f3a"
            ],
            [
             0.8888888888888888,
             "#fdca26"
            ],
            [
             1,
             "#f0f921"
            ]
           ]
          },
          "colorway": [
           "#636efa",
           "#EF553B",
           "#00cc96",
           "#ab63fa",
           "#FFA15A",
           "#19d3f3",
           "#FF6692",
           "#B6E880",
           "#FF97FF",
           "#FECB52"
          ],
          "font": {
           "color": "#2a3f5f"
          },
          "geo": {
           "bgcolor": "white",
           "lakecolor": "white",
           "landcolor": "#E5ECF6",
           "showlakes": true,
           "showland": true,
           "subunitcolor": "white"
          },
          "hoverlabel": {
           "align": "left"
          },
          "hovermode": "closest",
          "mapbox": {
           "style": "light"
          },
          "paper_bgcolor": "white",
          "plot_bgcolor": "#E5ECF6",
          "polar": {
           "angularaxis": {
            "gridcolor": "white",
            "linecolor": "white",
            "ticks": ""
           },
           "bgcolor": "#E5ECF6",
           "radialaxis": {
            "gridcolor": "white",
            "linecolor": "white",
            "ticks": ""
           }
          },
          "scene": {
           "xaxis": {
            "backgroundcolor": "#E5ECF6",
            "gridcolor": "white",
            "gridwidth": 2,
            "linecolor": "white",
            "showbackground": true,
            "ticks": "",
            "zerolinecolor": "white"
           },
           "yaxis": {
            "backgroundcolor": "#E5ECF6",
            "gridcolor": "white",
            "gridwidth": 2,
            "linecolor": "white",
            "showbackground": true,
            "ticks": "",
            "zerolinecolor": "white"
           },
           "zaxis": {
            "backgroundcolor": "#E5ECF6",
            "gridcolor": "white",
            "gridwidth": 2,
            "linecolor": "white",
            "showbackground": true,
            "ticks": "",
            "zerolinecolor": "white"
           }
          },
          "shapedefaults": {
           "line": {
            "color": "#2a3f5f"
           }
          },
          "ternary": {
           "aaxis": {
            "gridcolor": "white",
            "linecolor": "white",
            "ticks": ""
           },
           "baxis": {
            "gridcolor": "white",
            "linecolor": "white",
            "ticks": ""
           },
           "bgcolor": "#E5ECF6",
           "caxis": {
            "gridcolor": "white",
            "linecolor": "white",
            "ticks": ""
           }
          },
          "title": {
           "x": 0.05
          },
          "xaxis": {
           "automargin": true,
           "gridcolor": "white",
           "linecolor": "white",
           "ticks": "",
           "title": {
            "standoff": 15
           },
           "zerolinecolor": "white",
           "zerolinewidth": 2
          },
          "yaxis": {
           "automargin": true,
           "gridcolor": "white",
           "linecolor": "white",
           "ticks": "",
           "title": {
            "standoff": 15
           },
           "zerolinecolor": "white",
           "zerolinewidth": 2
          }
         }
        },
        "title": {
         "text": "Flight Web Search Interest Over Time"
        },
        "xaxis": {
         "anchor": "y",
         "domain": [
          0,
          1
         ],
         "title": {
          "text": "date"
         }
        },
        "yaxis": {
         "anchor": "x",
         "domain": [
          0,
          1
         ],
         "title": {
          "text": "flight"
         }
        }
       }
      }
     },
     "metadata": {},
     "output_type": "display_data"
    }
   ],
   "source": [
    "topic = ['flight']\n",
    "pytrends.build_payload(topic, cat=0, timeframe='today 5-y') \n",
    "data = pytrends.interest_over_time() \n",
    "data = data.reset_index() \n",
    "fig = px.line(data, x=\"date\", y=topic[0], title='Flight Web Search Interest Over Time')\n",
    "fig.show() "
   ]
  },
  {
   "cell_type": "markdown",
   "metadata": {},
   "source": [
    "The two keyword examples raises a question about the usefulness of `pytrends`, because the metric suggests, according to our assumption, that if an author writes an article about 'flight' it will be more relevant than if the person wrote about 'brexit'. `pytrends` or Google Trend does not provide the actual number of seaches for a keyword, making it difficult to determine if the number is high because it truely is relevant for the time period or high because it is always a seached keyword. However, while Google Trends has many limitations and makes it difficult to compare keyword values, it is still included in the project as a way to enrich the data set. This is done because the value given by Google Trends still gives some kind of indication whether the keyword is relevant or not. \n",
    "\n",
    "A final reflection about Google Trends and possible futher work to be done, would be to look into the sources (news agency). Many of the sources are targeting a specific segment. For instance the The Irish Times would not be relevant for the population of Denmark, but highly relevant for the Irish people. `pytrends` has a input field for region specification. This step would make the value given by Google Trend more specific for the chosen region. However the downside of this would be that many sources such like Reuters, which is a international news agency, would not be able to be reduced to a single area. "
   ]
  },
  {
   "cell_type": "markdown",
   "metadata": {},
   "source": [
    "## Deep Learning & Predictions"
   ]
  },
  {
   "cell_type": "markdown",
   "metadata": {},
   "source": [
    "In this section we will try to build a neural network that can can predict how popular an article will be. Our target variable will be all the engangement metrics summed up to one single float value. However we have choosen to deal with this problem as a classification problem. The reason we have chosen to deal with this as a classification, its is easier to comprenhend the results for a none technical end user like the news editor. It will also help to avoid exploading gradients, by having an upper and lower bound for our target attribute [[10]](https://arxiv.org/abs/1712.05577). The summarized metric values are divided into 4 bins by the first quantile, median and 3rd quantile.\n",
    "\n",
    "The bins are described as follows:\n",
    "1.  \"No intrest\"           this bins contains 21.4% of the articles\n",
    "2.  \"Low intrest\"          this bins contains 28.9% of the articles\n",
    "3.  \"Medium Intrest\"       this bins contains 24.7 % of the articles\n",
    "4.  \"Viral / High intrest\" this bins contains 24.9 % of the aricles\n",
    "\n",
    "The model will take four different inputs:\n",
    "\n",
    "* Image of the article, as a 128 $\\times$ 128, with RGB\n",
    "* The title of the article, as a tokenised list\n",
    "* The content of the or the article, as a tokenised list\n",
    "* Topic scores, as a list of float values\n",
    "\n",
    "The network is trained with the following settings\n",
    "* Epochs = 30 (final stage)\n",
    "* Batchsize = 6\n",
    "* Loss = Binary Cross entropy\n",
    "* Optimizer = Adam"
   ]
  },
  {
   "cell_type": "markdown",
   "metadata": {},
   "source": [
    "The model will be trained on the DTU HPC with an A100 GPU with 40 GB of memory.  Instead of manually testing and adjusting the neural network, a tuner algorithm has been applied, to optimize different hyper-parameters within the model. The selected tuner algorithm is a hyperband search. This will make the tuning process go a lot faster, as the algorithm only trains each randomly sampled hyperparameter-configuration for 2 epochs, to evaluate if the model is good, and further training is needed, or bad, and the model can be tossed away.\n",
    "\n",
    "The tuner adjusts the following hyper-parameters:\n",
    "\t\n",
    " - The nodes in the FC layers\n",
    "\t\n",
    "-  Kernel and stride in Convolutional layers\n",
    "\t\n",
    " - Output dimension of embedding layers\n",
    "\n",
    "\n",
    "Tunning layer types and number of layers could have been applied as well, but we settled for a more simplistic model.\n",
    "After selection of a final model, the model is trained once again for 30 epochs, to ensure maximum performance. \n",
    "\n",
    "The model uses 3 different types of layers: Fully Connected layers (FC), Convolutional layers, Embedding Layers, and dense layers. The model also has a flattening layer to map the spatial data to a single dimension.\n",
    "Here is a graph of the network:\n",
    "\n",
    "![alt text](OVERBLIK.png \"junk\")\n",
    " \n",
    "\n",
    "The 3 branches of the model handling spatial data all use convolutional layers. Convolutional layers have the advantage that CAM algorithms such as Grad-CAM can easily be applied, which means that we in the future could implement a system that would allow the author to se directly what part of the title, text or image that is contributing to the prediction. \n",
    "\n",
    "The loss function used is Binary Cross Entropy, since it’s a classic multi classification loss function. We could have tested out other loss functions, or even implemented test of different loss functions in the tuner, but since this is a proff of concept, as mentioned earlier, we kept it simple.\n",
    "\n",
    "The following diagram display the learning curve of the final model, with the x-axis showing number of epochs, and y-axis showing loss. We end up with a training loss of 0.257 and a test loss of 0.270.\n",
    "\n",
    "![alt text](Data/Loss_curve.PNG \"Loss\")\n",
    "\n",
    "\n",
    "Here is a diagram displaying the loss and accuracy for our 3 split dataset:\n",
    "\n",
    "From the table we can see that we ended up with an accuracy for our train set of 0.791 and for our validation set 0.771.\n",
    " "
   ]
  },
  {
   "cell_type": "code",
   "execution_count": null,
   "metadata": {},
   "outputs": [],
   "source": [
    "\n",
    "# Please be aware the following code chunk takes more than 5 hours and the user should use a GPU.\n",
    "def get_image(index):\n",
    "    try:\n",
    "        image = Image.open(f\"Data/images/{str(index)}.png\")\n",
    "    except:\n",
    "        image = Image.open(f\"Data/images/{str(0)}.png\")\n",
    "    data = np.asarray(image)\n",
    "    x_temp=data/np.linalg.norm(data)\n",
    "   \n",
    "    if x_temp.shape == (128,128,3):\n",
    "        return x_temp\n",
    "    else:\n",
    "        #print(index, \"________\",x_temp.shape)\n",
    "        return get_image(0)\n",
    " \n",
    " \n",
    " \n",
    "data = pd.read_csv(\"Data/df_with_topic_value.csv\")\n",
    " \n",
    "data = data[['cleaned_title','cleaned_content', 'Image_path','Topic 1 Score', 'Topic 2 Score', 'Topic 3 Score','engagement_reaction_count','engagement_comment_count','engagement_share_count','engagement_comment_plugin_count']]\n",
    "data = data.dropna()\n",
    "X = data[['cleaned_title','cleaned_content', 'Image_path','Topic 1 Score', 'Topic 2 Score', 'Topic 3 Score']]\n",
    "y = data['engagement_reaction_count']+data['engagement_comment_count']+data['engagement_share_count']+data['engagement_comment_plugin_count']\n",
    " \n",
    " \n",
    "y = pd.cut(y, bins=[-1, 0, 20, 263, float('Inf')],\n",
    "                                        labels=[0, 1,2, 3])\n",
    "unique, counts = np.unique(y, return_counts=True)\n",
    " \n",
    " \n",
    "y = np.asarray(y).astype('float32')\n",
    "X['topic'] = X.apply(lambda x: [x['Topic 1 Score'], x['Topic 2 Score'],x['Topic 3 Score']], axis=1)\n",
    " \n",
    "X=X[['cleaned_title','cleaned_content', 'Image_path','topic']]\n",
    " \n",
    "def padd_list(list_len, word_list):\n",
    "    return pad_sequences([word_list],list_len)[0]\n",
    " \n",
    " \n",
    "content_len = 250\n",
    "content_tok = Tokenizer()\n",
    "content_tok.fit_on_texts(X['cleaned_content'].astype(str))\n",
    "X['cleaned_content'] = content_tok.texts_to_sequences(X['cleaned_content'].astype(str))\n",
    "X['cleaned_content'] = X['cleaned_content'].apply(lambda x: padd_list(content_len,x))\n",
    "content_vocab = len(content_tok.word_index) + 1\n",
    " \n",
    " \n",
    "title_len = 50\n",
    "title_tok = Tokenizer()\n",
    "title_tok.fit_on_texts(X['cleaned_title'].astype(str))\n",
    "X['cleaned_title'] = title_tok.texts_to_sequences(X['cleaned_title'].astype(str))\n",
    "X['cleaned_title'] = X['cleaned_title'].apply(lambda x: padd_list(title_len,x))\n",
    "title_vocab = len(title_tok.word_index) + 1\n",
    "print(content_vocab)\n",
    "print(title_vocab)\n",
    " \n",
    " \n",
    "X = np.array(X)\n",
    "y = np.array(y)\n",
    " \n",
    "y = np.array(pd.cut(y, bins=[-1, 0, 20, 263, float('Inf')],\n",
    "                                        labels=[(1,0,0,0), (0,1,0,0), (0,0,1,0), (0,0,0,1)]))\n",
    "y = [list(i) for i in y]\n",
    "y = np.asarray(y).astype('float32')\n",
    " \n",
    "X_train, X_test, y_train, y_test = train_test_split(X, y, shuffle=False, test_size=0.20, random_state=80085)\n",
    "X_train, X_val, y_train, y_val = train_test_split(X_train, y_train, shuffle=False, test_size=0.15, random_state=80085)\n",
    " \n",
    "def make_data(X):\n",
    "    title = np.array([i[0] for i in X])\n",
    "    content = np.array([i[1] for i in X])\n",
    "    image = np.array([get_image(i[2]) for i in X])\n",
    "    topic = np.array([i[3] for i in X])\n",
    "    return [title,content,image,topic]\n",
    "X_train = make_data(X_train)\n",
    "X_test = make_data(X_test)\n",
    " \n",
    " \n",
    "def get_model(hp):\n",
    "    title_len = 50\n",
    "    title_vocab = 12325\n",
    "    text_len = 250\n",
    "    text_vocab = 24424\n",
    "    image_dim = [128,128]\n",
    "    topics = 3\n",
    " \n",
    "    output_dim = hp.Int(\"concat_out\", min_value=8, max_value=256, step=32)\n",
    "   \n",
    "    #Define input layers\n",
    "    title_input = keras.Input((title_len))\n",
    "    text_input = keras.Input((text_len))\n",
    "    image_input = keras.Input((image_dim[0], image_dim[1], 3))\n",
    "    topic_input = keras.Input((topics,),name=\"test2\")\n",
    "   \n",
    "   \n",
    "    # Define Title layers\n",
    "    embed1 = layers.Embedding(title_vocab, hp.Int(\"embed_1\", min_value=8, max_value=4000, step=100))(title_input)\n",
    "    CNN1 = layers.Conv1D(padding = \"same\",filters=hp.Int(\"title_filter1\", min_value=8, max_value=64, step=4),\n",
    "                        kernel_size=hp.Int(\"title_kernel_1\", min_value=1, max_value=64, step=4),\n",
    "                        strides = hp.Int(\"title_stride_1\", min_value=1, max_value=10, step=1),\n",
    "                        activation=\"relu\",kernel_initializer=initializers.RandomNormal(stddev=0.01),bias_initializer=initializers.Zeros())(embed1)\n",
    "    CNN1 = layers.Conv1D(padding = \"same\",filters=hp.Int(\"title_filter2\", min_value=8, max_value=64, step=4),\n",
    "                        kernel_size=hp.Int(\"title_kernel_2\", min_value=1, max_value=64, step=4),\n",
    "                        strides = hp.Int(\"title_stride_2\", min_value=1, max_value=10, step=1),\n",
    "                        activation=\"relu\",kernel_initializer=initializers.RandomNormal(stddev=0.01),bias_initializer=initializers.Zeros())(CNN1)\n",
    "    y1 = layers.Flatten()(CNN1)\n",
    "    y1 = layers.Dense(units=output_dim, activation=\"relu\",\n",
    "                        kernel_initializer=initializers.RandomNormal(stddev=0.01),bias_initializer=initializers.Zeros())(y1)\n",
    "   \n",
    "    # Define Text layers\n",
    "    embed2 = layers.Embedding(text_vocab, hp.Int(\"embed_2\", min_value=8, max_value=4000, step=100))(text_input)\n",
    "    CNN2 = layers.Conv1D(padding = \"same\",filters=hp.Int(\"text_filter1\", min_value=8, max_value=64, step=4),\n",
    "                        kernel_size=hp.Int(\"text_kernel_1\", min_value=1, max_value=64, step=4),\n",
    "                        strides = hp.Int(\"text_stride_1\", min_value=1, max_value=10, step=1),\n",
    "                        activation=\"relu\",kernel_initializer=initializers.RandomNormal(stddev=0.01),bias_initializer=initializers.Zeros())(embed2)\n",
    "    CNN2 = layers.Conv1D(padding = \"same\",filters=hp.Int(\"text_filter2\", min_value=8, max_value=64, step=4),\n",
    "                        kernel_size=hp.Int(\"text_kernel_2\", min_value=1, max_value=64, step=4),\n",
    "                        strides = hp.Int(\"text_stride_2\", min_value=1, max_value=10, step=1),\n",
    "                        activation=\"relu\",kernel_initializer=initializers.RandomNormal(stddev=0.01),bias_initializer=initializers.Zeros())(CNN2)\n",
    "    y2 = layers.Flatten()(CNN2)\n",
    "    y2 = layers.Dense(units=output_dim, activation=\"relu\",\n",
    "                        kernel_initializer=initializers.RandomNormal(stddev=0.01),bias_initializer=initializers.Zeros())(y2)\n",
    "   \n",
    "    # Define Image layers\n",
    "    CNN3 = layers.Conv2D(padding = \"same\",filters=hp.Int(\"img_filter1\", min_value=8, max_value=64, step=4),\n",
    "                        kernel_size=hp.Int(\"img_kernel_1\", min_value=1, max_value=64, step=4),\n",
    "                        strides = hp.Int(\"img_stride_1\", min_value=1, max_value=10, step=1),\n",
    "                        activation=\"relu\",kernel_initializer=initializers.RandomNormal(stddev=0.01),bias_initializer=initializers.Zeros())(image_input)\n",
    "    CNN3 = layers.Conv2D(padding = \"same\",filters=hp.Int(\"img_filter2\", min_value=8, max_value=64, step=4),\n",
    "                        kernel_size=hp.Int(\"img_kernel_2\", min_value=1, max_value=64, step=4),\n",
    "                        strides = hp.Int(\"img_stride_1\", min_value=1, max_value=10, step=1),\n",
    "                        activation=\"relu\",kernel_initializer=initializers.RandomNormal(stddev=0.01),bias_initializer=initializers.Zeros())(CNN3)\n",
    "    y3 = layers.Flatten()(CNN3)\n",
    "    y3 = layers.Dense(units=output_dim, activation=\"relu\",\n",
    "                        kernel_initializer=initializers.RandomNormal(stddev=0.01),bias_initializer=initializers.Zeros())(y3)\n",
    "   \n",
    " \n",
    "    # Define score layers (3)\n",
    " \n",
    "    y4 = layers.Dense(units=hp.Int(\"score_1\", min_value=8, max_value=256, step=32), activation=\"relu\",kernel_initializer=initializers.RandomNormal(stddev=0.01),bias_initializer=initializers.Zeros(),name=\"test\")(topic_input)\n",
    "    y4 = layers.Dense(units=hp.Int(\"score_2\", min_value=8, max_value=256, step=32), activation=\"relu\",kernel_initializer=initializers.RandomNormal(stddev=0.01),bias_initializer=initializers.Zeros())(y4)\n",
    "    y4 = layers.Dense(units=output_dim, activation=\"relu\",kernel_initializer=initializers.RandomNormal(stddev=0.01),bias_initializer=initializers.Zeros())(y4)\n",
    " \n",
    " \n",
    " \n",
    "    # Define Common layers\n",
    "    common = layers.Concatenate(axis=1)([y1, y2, y3, y4])\n",
    "    common = layers.Dense(units=hp.Int(\"dense_final_1\", min_value=8, max_value=256, step=32), activation=\"relu\",kernel_initializer=initializers.RandomNormal(stddev=0.01),bias_initializer=initializers.Zeros())(common)\n",
    "    common = layers.Dense(units=hp.Int(\"dense_final_2\", min_value=8, max_value=256, step=32), activation=\"relu\",kernel_initializer=initializers.RandomNormal(stddev=0.01),bias_initializer=initializers.Zeros())(common)\n",
    " \n",
    "    # Define output layer\n",
    "    score = layers.Dense(units=4, activation=\"softmax\", name=\"y1\",kernel_initializer=initializers.RandomNormal(stddev=0.01),bias_initializer=initializers.Zeros())(common)\n",
    "   \n",
    "    # Define the model.\n",
    "    model = keras.Model([title_input,text_input,image_input,topic_input], score, name=\"ABA_Model\")\n",
    "    model.compile(\n",
    "        loss=tf.keras.losses.CategoricalCrossentropy(),\n",
    "        optimizer='adam',\n",
    "        metrics=['accuracy']\n",
    "    )\n",
    "    return model\n",
    " \n",
    " \n",
    "import keras_tuner as kt\n",
    "stop_early = tf.keras.callbacks.EarlyStopping(monitor='val_loss', patience=5)\n",
    " \n",
    " \n",
    " \n",
    "tuner = kt.Hyperband(get_model,\n",
    "                     objective='val_accuracy',\n",
    "                     max_epochs=5,\n",
    "                     factor=3,\n",
    "                     directory='/work3/s184299/ABA',\n",
    "                     project_name='ABA_Final_3')\n",
    " \n",
    "tuner.search(X_train, y_train, epochs=50, batch_size=10,validation_split=0.2, callbacks=[stop_early],verbose=1)\n",
    " \n",
    " \n",
    "best_hps = tuner.get_best_hyperparameters(5)\n",
    " \n",
    "model = get_model(best_hps[0])\n",
    " \n",
    "dagtid = datetime.datetime.now().strftime(\"%Y-%m-%d_%H:%M:%S\")\n",
    "# Define callbacks.\n",
    "checkpoint_cb = keras.callbacks.ModelCheckpoint(\n",
    "    \"final_model_4_real.h5\", save_best_only=True\n",
    ")\n",
    " \n",
    "log_dir = \"logs/\"\n",
    "tensorboard_callback = tf.keras.callbacks.TensorBoard(log_dir=log_dir, histogram_freq=1)\n",
    " \n",
    "# Train the model, doing validation at the end of each epoch\n",
    "epochs = 30\n",
    "model.fit(\n",
    "    x=X_train,\n",
    "    y=y_train,\n",
    "    batch_size = 10,\n",
    "    epochs=epochs,\n",
    "    validation_data = (X_test,y_test),\n",
    "    shuffle=False,\n",
    "    verbose=2,\n",
    "    callbacks=[checkpoint_cb,tensorboard_callback],\n",
    ")"
   ]
  },
  {
   "cell_type": "markdown",
   "metadata": {},
   "source": [
    "## Discussion and Conclusion"
   ]
  },
  {
   "cell_type": "markdown",
   "metadata": {},
   "source": [
    "The goal of predicting the article engagements have been done by the following approach. First a data cleaning and data exploration have been carried out to examine the article data. To complement the text data, the adjacent image for each article was scraped. Afterwards topic modeling was conducted to determine a topic for each article. Then 3 keywords was found from each of the topics. Google Trends was then used to assign a relevance score to each keyword. These new relevance scores would be used together with other features such as author, image etc. to build a neural network. The model seems to perform quite well with the relativly high accruacy of 77%, with the evenly distriuted classes. A challenge with our model right now is that we cant see what makes the big difference whether an article will have a lot of engangement or not, its more of a black box. If we had more time we would have liked to analyse our model further with confusions matrice and apply Grad-cam to why the model thinks an obsevartion belongs to a specific class etc.\n",
    "\n",
    "However, as with most approaches, our approach have sources of error as well. Already from the beginning of the data processing, due to lack of images from the articles approx. 1000 rows are removed. 1200 rows are removed due to `NaN` values. Before any data modelling has been done, 2200 rows has been deleted, which gives the model fewer data points to train on. Another source of error is the content of the article which only include the first 250 characters. Further work could have been done to web scrap the articles to include the full text. This would have enriched the data further, which could have improved the topic modelling, but due to the heavy computation behind this, it was not priotized in this project.   \n",
    "\n",
    "The topic modeling didn’t assign every article with a topic, and therefore some articles did not get a relevance score from Google Trends. Another source of error was how the keywords was assigned to each article. Each topic had different distribution of c-TF-IDF score for the first 3 keywords, which our model wouldn’t know. A idea to handle this problem could be to multiply the relevance score from Google Trends with a scaling factor coresponding c-TF-IDF score.\n",
    "\n",
    "A source of error of using Google Trends to calculate a relevance for the article is that `pytrends` or Google Trend does not provide the actual number of searches for a keyword. This makes it difficult to determine if the number for a keyword is high because it is relevant or because it a commonly searched keyword. Another source of error of our use of Google Trend was that we looked at how relevant a keyword was for the whole world and not for the relevant part of the world. The keyword “Brexit” would inherently be more relevant if it was written for the Irish people in The Irish Times rather than in a international news agency such as Reuters.\n",
    "\n",
    "\n",
    "All in all we have shown with our approach, that it is possible to give a reasonable estimate if an article will become popular on Facebook or not. \n"
   ]
  },
  {
   "cell_type": "markdown",
   "metadata": {},
   "source": [
    "## Sources \n",
    "[1] - https://www.pewresearch.org/journalism/2021/01/12/news-use-across-social-media-platforms-in-2020/ \\\n",
    "[2] - https://blog.hootsuite.com/facebook-algorithm/ \\\n",
    "[3] - https://www.kaggle.com/szymonjanowski/internet-articles-data-with-users-engagement  \\\n",
    "[4] - https://github.com/MaartenGr/BERTopic \\\n",
    "[5] - https://www.sbert.net/docs/pretrained_models.html \\\n",
    "[6] - https://hdbscan.readthedocs.io/en/latest/how_hdbscan_works.html  \\\n",
    "[7] - https://github.com/MaartenGr/BERTopic/blob/master/bertopic/plotting/_barchart.py \\\n",
    "[8] - https://pypi.org/project/pytrends/ \\\n",
    "[9] - https://lazarinastoy.com/the-ultimate-guide-to-pytrends-google-trends-api-with-python/\\\n",
    "[10] - https://arxiv.org/abs/1712.05577"
   ]
  }
 ],
 "metadata": {
  "interpreter": {
   "hash": "befb7a448f250cd1db3184e52549401fa08a600e3a55100d44b8cafe051a6a59"
  },
  "kernelspec": {
   "display_name": "Python 3.8.8 ('base')",
   "language": "python",
   "name": "python3"
  },
  "language_info": {
   "codemirror_mode": {
    "name": "ipython",
    "version": 3
   },
   "file_extension": ".py",
   "mimetype": "text/x-python",
   "name": "python",
   "nbconvert_exporter": "python",
   "pygments_lexer": "ipython3",
   "version": "3.9.7"
  },
  "orig_nbformat": 4
 },
 "nbformat": 4,
 "nbformat_minor": 2
}
