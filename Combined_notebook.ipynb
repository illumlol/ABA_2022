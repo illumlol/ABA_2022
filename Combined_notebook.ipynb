{
 "cells": [
  {
   "cell_type": "markdown",
   "metadata": {},
   "source": [
    "# Advanced Business Analytics - 2022\n",
    "By: S184286, s184294, s184299, s174329"
   ]
  },
  {
   "cell_type": "code",
   "execution_count": null,
   "metadata": {},
   "outputs": [],
   "source": [
    "import pandas as pd\n",
    "import numpy as np\n",
    "import matplotlib.pyplot as plt\n",
    "import seaborn as sns\n",
    "import requests\n",
    "from bs4 import BeautifulSoup\n",
    "from tqdm.notebook import tqdm\n",
    "from matplotlib import cm\n",
    "from PIL import Image\n",
    "import os\n",
    "import PIL\n",
    "import glob\n",
    "tqdm.pandas()\n",
    "df = pd.read_csv(\"Data/articles_data.csv\")\n",
    "df=df.drop(\"Unnamed: 0\",axis=1)\n",
    "df=df.dropna()"
   ]
  },
  {
   "cell_type": "markdown",
   "metadata": {},
   "source": [
<<<<<<< HEAD
    "1234"
   ]
=======
    "## Introduktion"
   ]
  },
  {
   "cell_type": "markdown",
   "metadata": {},
   "source": []
>>>>>>> fd6978592586b47bdf168a8a056bf25a896e6a2e
  }
 ],
 "metadata": {
  "interpreter": {
   "hash": "6b04323afc8059fc3fffdba85dcd08c406fee27a9d77b4e95ed4281f41ac0c07"
  },
  "kernelspec": {
   "display_name": "Python 3.8.8 ('base')",
   "language": "python",
   "name": "python3"
  },
  "language_info": {
   "name": "python",
   "version": "3.8.8"
  },
  "orig_nbformat": 4
 },
 "nbformat": 4,
 "nbformat_minor": 2
}
